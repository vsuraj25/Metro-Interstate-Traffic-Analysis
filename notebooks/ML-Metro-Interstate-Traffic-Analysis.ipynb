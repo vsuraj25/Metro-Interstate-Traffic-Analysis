{
 "cells": [
  {
   "cell_type": "markdown",
   "metadata": {},
   "source": [
    "# <center>**Importing Required Libraries**</center>"
   ]
  },
  {
   "cell_type": "code",
   "execution_count": 1,
   "metadata": {},
   "outputs": [],
   "source": [
    "import pandas as pd\n",
    "import numpy as np\n",
    "import matplotlib.pyplot as plt\n",
    "import seaborn as sns"
   ]
  },
  {
   "cell_type": "code",
   "execution_count": null,
   "metadata": {},
   "outputs": [],
   "source": [
    "data = pd.read_csv('CLEANED_METRO_INTERSTATE_TRAFFIC.csv',index_col='date_time')"
   ]
  },
  {
   "cell_type": "code",
   "execution_count": 3,
   "metadata": {},
   "outputs": [
    {
     "data": {
      "text/html": [
       "<div>\n",
       "<style scoped>\n",
       "    .dataframe tbody tr th:only-of-type {\n",
       "        vertical-align: middle;\n",
       "    }\n",
       "\n",
       "    .dataframe tbody tr th {\n",
       "        vertical-align: top;\n",
       "    }\n",
       "\n",
       "    .dataframe thead th {\n",
       "        text-align: right;\n",
       "    }\n",
       "</style>\n",
       "<table border=\"1\" class=\"dataframe\">\n",
       "  <thead>\n",
       "    <tr style=\"text-align: right;\">\n",
       "      <th></th>\n",
       "      <th>holiday</th>\n",
       "      <th>temp</th>\n",
       "      <th>clouds_all</th>\n",
       "      <th>weather_main</th>\n",
       "      <th>traffic_volume</th>\n",
       "      <th>year</th>\n",
       "      <th>month</th>\n",
       "      <th>weekday</th>\n",
       "      <th>hour</th>\n",
       "      <th>day_part</th>\n",
       "    </tr>\n",
       "    <tr>\n",
       "      <th>date_time</th>\n",
       "      <th></th>\n",
       "      <th></th>\n",
       "      <th></th>\n",
       "      <th></th>\n",
       "      <th></th>\n",
       "      <th></th>\n",
       "      <th></th>\n",
       "      <th></th>\n",
       "      <th></th>\n",
       "      <th></th>\n",
       "    </tr>\n",
       "  </thead>\n",
       "  <tbody>\n",
       "    <tr>\n",
       "      <th>2012-10-02 09:00:00</th>\n",
       "      <td>None</td>\n",
       "      <td>288.28</td>\n",
       "      <td>40</td>\n",
       "      <td>Clouds</td>\n",
       "      <td>5545</td>\n",
       "      <td>2012</td>\n",
       "      <td>10</td>\n",
       "      <td>1</td>\n",
       "      <td>9</td>\n",
       "      <td>morning</td>\n",
       "    </tr>\n",
       "    <tr>\n",
       "      <th>2012-10-02 10:00:00</th>\n",
       "      <td>None</td>\n",
       "      <td>289.36</td>\n",
       "      <td>75</td>\n",
       "      <td>Clouds</td>\n",
       "      <td>4516</td>\n",
       "      <td>2012</td>\n",
       "      <td>10</td>\n",
       "      <td>1</td>\n",
       "      <td>10</td>\n",
       "      <td>morning</td>\n",
       "    </tr>\n",
       "    <tr>\n",
       "      <th>2012-10-02 11:00:00</th>\n",
       "      <td>None</td>\n",
       "      <td>289.58</td>\n",
       "      <td>90</td>\n",
       "      <td>Clouds</td>\n",
       "      <td>4767</td>\n",
       "      <td>2012</td>\n",
       "      <td>10</td>\n",
       "      <td>1</td>\n",
       "      <td>11</td>\n",
       "      <td>morning</td>\n",
       "    </tr>\n",
       "    <tr>\n",
       "      <th>2012-10-02 12:00:00</th>\n",
       "      <td>None</td>\n",
       "      <td>290.13</td>\n",
       "      <td>90</td>\n",
       "      <td>Clouds</td>\n",
       "      <td>5026</td>\n",
       "      <td>2012</td>\n",
       "      <td>10</td>\n",
       "      <td>1</td>\n",
       "      <td>12</td>\n",
       "      <td>morning</td>\n",
       "    </tr>\n",
       "    <tr>\n",
       "      <th>2012-10-02 13:00:00</th>\n",
       "      <td>None</td>\n",
       "      <td>291.14</td>\n",
       "      <td>75</td>\n",
       "      <td>Clouds</td>\n",
       "      <td>4918</td>\n",
       "      <td>2012</td>\n",
       "      <td>10</td>\n",
       "      <td>1</td>\n",
       "      <td>13</td>\n",
       "      <td>afternoon</td>\n",
       "    </tr>\n",
       "  </tbody>\n",
       "</table>\n",
       "</div>"
      ],
      "text/plain": [
       "                    holiday    temp  clouds_all weather_main  traffic_volume  \\\n",
       "date_time                                                                      \n",
       "2012-10-02 09:00:00    None  288.28          40       Clouds            5545   \n",
       "2012-10-02 10:00:00    None  289.36          75       Clouds            4516   \n",
       "2012-10-02 11:00:00    None  289.58          90       Clouds            4767   \n",
       "2012-10-02 12:00:00    None  290.13          90       Clouds            5026   \n",
       "2012-10-02 13:00:00    None  291.14          75       Clouds            4918   \n",
       "\n",
       "                     year  month  weekday  hour   day_part  \n",
       "date_time                                                   \n",
       "2012-10-02 09:00:00  2012     10        1     9    morning  \n",
       "2012-10-02 10:00:00  2012     10        1    10    morning  \n",
       "2012-10-02 11:00:00  2012     10        1    11    morning  \n",
       "2012-10-02 12:00:00  2012     10        1    12    morning  \n",
       "2012-10-02 13:00:00  2012     10        1    13  afternoon  "
      ]
     },
     "execution_count": 3,
     "metadata": {},
     "output_type": "execute_result"
    }
   ],
   "source": [
    "data.head()"
   ]
  },
  {
   "cell_type": "markdown",
   "metadata": {},
   "source": [
    "# <center>**Splitting the data into independent and target feature**</center>"
   ]
  },
  {
   "cell_type": "code",
   "execution_count": 4,
   "metadata": {},
   "outputs": [],
   "source": [
    "x = data.drop(['day_part', 'traffic_volume'], axis = 1)"
   ]
  },
  {
   "cell_type": "code",
   "execution_count": 5,
   "metadata": {},
   "outputs": [
    {
     "data": {
      "text/html": [
       "<div>\n",
       "<style scoped>\n",
       "    .dataframe tbody tr th:only-of-type {\n",
       "        vertical-align: middle;\n",
       "    }\n",
       "\n",
       "    .dataframe tbody tr th {\n",
       "        vertical-align: top;\n",
       "    }\n",
       "\n",
       "    .dataframe thead th {\n",
       "        text-align: right;\n",
       "    }\n",
       "</style>\n",
       "<table border=\"1\" class=\"dataframe\">\n",
       "  <thead>\n",
       "    <tr style=\"text-align: right;\">\n",
       "      <th></th>\n",
       "      <th>holiday</th>\n",
       "      <th>temp</th>\n",
       "      <th>clouds_all</th>\n",
       "      <th>weather_main</th>\n",
       "      <th>year</th>\n",
       "      <th>month</th>\n",
       "      <th>weekday</th>\n",
       "      <th>hour</th>\n",
       "    </tr>\n",
       "    <tr>\n",
       "      <th>date_time</th>\n",
       "      <th></th>\n",
       "      <th></th>\n",
       "      <th></th>\n",
       "      <th></th>\n",
       "      <th></th>\n",
       "      <th></th>\n",
       "      <th></th>\n",
       "      <th></th>\n",
       "    </tr>\n",
       "  </thead>\n",
       "  <tbody>\n",
       "    <tr>\n",
       "      <th>2012-10-02 09:00:00</th>\n",
       "      <td>None</td>\n",
       "      <td>288.28</td>\n",
       "      <td>40</td>\n",
       "      <td>Clouds</td>\n",
       "      <td>2012</td>\n",
       "      <td>10</td>\n",
       "      <td>1</td>\n",
       "      <td>9</td>\n",
       "    </tr>\n",
       "    <tr>\n",
       "      <th>2012-10-02 10:00:00</th>\n",
       "      <td>None</td>\n",
       "      <td>289.36</td>\n",
       "      <td>75</td>\n",
       "      <td>Clouds</td>\n",
       "      <td>2012</td>\n",
       "      <td>10</td>\n",
       "      <td>1</td>\n",
       "      <td>10</td>\n",
       "    </tr>\n",
       "    <tr>\n",
       "      <th>2012-10-02 11:00:00</th>\n",
       "      <td>None</td>\n",
       "      <td>289.58</td>\n",
       "      <td>90</td>\n",
       "      <td>Clouds</td>\n",
       "      <td>2012</td>\n",
       "      <td>10</td>\n",
       "      <td>1</td>\n",
       "      <td>11</td>\n",
       "    </tr>\n",
       "    <tr>\n",
       "      <th>2012-10-02 12:00:00</th>\n",
       "      <td>None</td>\n",
       "      <td>290.13</td>\n",
       "      <td>90</td>\n",
       "      <td>Clouds</td>\n",
       "      <td>2012</td>\n",
       "      <td>10</td>\n",
       "      <td>1</td>\n",
       "      <td>12</td>\n",
       "    </tr>\n",
       "    <tr>\n",
       "      <th>2012-10-02 13:00:00</th>\n",
       "      <td>None</td>\n",
       "      <td>291.14</td>\n",
       "      <td>75</td>\n",
       "      <td>Clouds</td>\n",
       "      <td>2012</td>\n",
       "      <td>10</td>\n",
       "      <td>1</td>\n",
       "      <td>13</td>\n",
       "    </tr>\n",
       "  </tbody>\n",
       "</table>\n",
       "</div>"
      ],
      "text/plain": [
       "                    holiday    temp  clouds_all weather_main  year  month  \\\n",
       "date_time                                                                   \n",
       "2012-10-02 09:00:00    None  288.28          40       Clouds  2012     10   \n",
       "2012-10-02 10:00:00    None  289.36          75       Clouds  2012     10   \n",
       "2012-10-02 11:00:00    None  289.58          90       Clouds  2012     10   \n",
       "2012-10-02 12:00:00    None  290.13          90       Clouds  2012     10   \n",
       "2012-10-02 13:00:00    None  291.14          75       Clouds  2012     10   \n",
       "\n",
       "                     weekday  hour  \n",
       "date_time                           \n",
       "2012-10-02 09:00:00        1     9  \n",
       "2012-10-02 10:00:00        1    10  \n",
       "2012-10-02 11:00:00        1    11  \n",
       "2012-10-02 12:00:00        1    12  \n",
       "2012-10-02 13:00:00        1    13  "
      ]
     },
     "execution_count": 5,
     "metadata": {},
     "output_type": "execute_result"
    }
   ],
   "source": [
    "x.head()"
   ]
  },
  {
   "cell_type": "code",
   "execution_count": 6,
   "metadata": {},
   "outputs": [],
   "source": [
    "y = data['traffic_volume']"
   ]
  },
  {
   "cell_type": "code",
   "execution_count": 7,
   "metadata": {},
   "outputs": [
    {
     "data": {
      "text/plain": [
       "date_time\n",
       "2012-10-02 09:00:00    5545\n",
       "2012-10-02 10:00:00    4516\n",
       "2012-10-02 11:00:00    4767\n",
       "2012-10-02 12:00:00    5026\n",
       "2012-10-02 13:00:00    4918\n",
       "Name: traffic_volume, dtype: int64"
      ]
     },
     "execution_count": 7,
     "metadata": {},
     "output_type": "execute_result"
    }
   ],
   "source": [
    "y.head()"
   ]
  },
  {
   "cell_type": "markdown",
   "metadata": {},
   "source": [
    "# <center>**Label Encoding - Independent Features**</center>"
   ]
  },
  {
   "cell_type": "code",
   "execution_count": 8,
   "metadata": {},
   "outputs": [],
   "source": [
    "from sklearn.preprocessing  import LabelEncoder"
   ]
  },
  {
   "cell_type": "code",
   "execution_count": 9,
   "metadata": {},
   "outputs": [],
   "source": [
    "le = LabelEncoder()"
   ]
  },
  {
   "cell_type": "code",
   "execution_count": 10,
   "metadata": {},
   "outputs": [],
   "source": [
    "for column in x.columns:\n",
    "    if x[column].dtypes == 'object':\n",
    "        x[column] = le.fit_transform(x[column])"
   ]
  },
  {
   "cell_type": "code",
   "execution_count": 11,
   "metadata": {},
   "outputs": [
    {
     "data": {
      "text/html": [
       "<div>\n",
       "<style scoped>\n",
       "    .dataframe tbody tr th:only-of-type {\n",
       "        vertical-align: middle;\n",
       "    }\n",
       "\n",
       "    .dataframe tbody tr th {\n",
       "        vertical-align: top;\n",
       "    }\n",
       "\n",
       "    .dataframe thead th {\n",
       "        text-align: right;\n",
       "    }\n",
       "</style>\n",
       "<table border=\"1\" class=\"dataframe\">\n",
       "  <thead>\n",
       "    <tr style=\"text-align: right;\">\n",
       "      <th></th>\n",
       "      <th>holiday</th>\n",
       "      <th>temp</th>\n",
       "      <th>clouds_all</th>\n",
       "      <th>weather_main</th>\n",
       "      <th>year</th>\n",
       "      <th>month</th>\n",
       "      <th>weekday</th>\n",
       "      <th>hour</th>\n",
       "    </tr>\n",
       "    <tr>\n",
       "      <th>date_time</th>\n",
       "      <th></th>\n",
       "      <th></th>\n",
       "      <th></th>\n",
       "      <th></th>\n",
       "      <th></th>\n",
       "      <th></th>\n",
       "      <th></th>\n",
       "      <th></th>\n",
       "    </tr>\n",
       "  </thead>\n",
       "  <tbody>\n",
       "    <tr>\n",
       "      <th>2012-10-02 09:00:00</th>\n",
       "      <td>0</td>\n",
       "      <td>288.28</td>\n",
       "      <td>40</td>\n",
       "      <td>1</td>\n",
       "      <td>2012</td>\n",
       "      <td>10</td>\n",
       "      <td>1</td>\n",
       "      <td>9</td>\n",
       "    </tr>\n",
       "    <tr>\n",
       "      <th>2012-10-02 10:00:00</th>\n",
       "      <td>0</td>\n",
       "      <td>289.36</td>\n",
       "      <td>75</td>\n",
       "      <td>1</td>\n",
       "      <td>2012</td>\n",
       "      <td>10</td>\n",
       "      <td>1</td>\n",
       "      <td>10</td>\n",
       "    </tr>\n",
       "    <tr>\n",
       "      <th>2012-10-02 11:00:00</th>\n",
       "      <td>0</td>\n",
       "      <td>289.58</td>\n",
       "      <td>90</td>\n",
       "      <td>1</td>\n",
       "      <td>2012</td>\n",
       "      <td>10</td>\n",
       "      <td>1</td>\n",
       "      <td>11</td>\n",
       "    </tr>\n",
       "    <tr>\n",
       "      <th>2012-10-02 12:00:00</th>\n",
       "      <td>0</td>\n",
       "      <td>290.13</td>\n",
       "      <td>90</td>\n",
       "      <td>1</td>\n",
       "      <td>2012</td>\n",
       "      <td>10</td>\n",
       "      <td>1</td>\n",
       "      <td>12</td>\n",
       "    </tr>\n",
       "    <tr>\n",
       "      <th>2012-10-02 13:00:00</th>\n",
       "      <td>0</td>\n",
       "      <td>291.14</td>\n",
       "      <td>75</td>\n",
       "      <td>1</td>\n",
       "      <td>2012</td>\n",
       "      <td>10</td>\n",
       "      <td>1</td>\n",
       "      <td>13</td>\n",
       "    </tr>\n",
       "  </tbody>\n",
       "</table>\n",
       "</div>"
      ],
      "text/plain": [
       "                     holiday    temp  clouds_all  weather_main  year  month  \\\n",
       "date_time                                                                     \n",
       "2012-10-02 09:00:00        0  288.28          40             1  2012     10   \n",
       "2012-10-02 10:00:00        0  289.36          75             1  2012     10   \n",
       "2012-10-02 11:00:00        0  289.58          90             1  2012     10   \n",
       "2012-10-02 12:00:00        0  290.13          90             1  2012     10   \n",
       "2012-10-02 13:00:00        0  291.14          75             1  2012     10   \n",
       "\n",
       "                     weekday  hour  \n",
       "date_time                           \n",
       "2012-10-02 09:00:00        1     9  \n",
       "2012-10-02 10:00:00        1    10  \n",
       "2012-10-02 11:00:00        1    11  \n",
       "2012-10-02 12:00:00        1    12  \n",
       "2012-10-02 13:00:00        1    13  "
      ]
     },
     "execution_count": 11,
     "metadata": {},
     "output_type": "execute_result"
    }
   ],
   "source": [
    "x.head()"
   ]
  },
  {
   "cell_type": "code",
   "execution_count": 12,
   "metadata": {},
   "outputs": [],
   "source": [
    "l1 = sorted(data['weather_main'].unique())"
   ]
  },
  {
   "cell_type": "code",
   "execution_count": 13,
   "metadata": {},
   "outputs": [
    {
     "data": {
      "text/plain": [
       "['Clear',\n",
       " 'Clouds',\n",
       " 'Drizzle',\n",
       " 'Fog',\n",
       " 'Haze',\n",
       " 'Mist',\n",
       " 'Rain',\n",
       " 'Smoke',\n",
       " 'Snow',\n",
       " 'Squall',\n",
       " 'Thunderstorm']"
      ]
     },
     "execution_count": 13,
     "metadata": {},
     "output_type": "execute_result"
    }
   ],
   "source": [
    "l1"
   ]
  },
  {
   "cell_type": "code",
   "execution_count": 14,
   "metadata": {},
   "outputs": [],
   "source": [
    "l2 = list(range(len(data['weather_main'].unique())))"
   ]
  },
  {
   "cell_type": "code",
   "execution_count": 15,
   "metadata": {},
   "outputs": [
    {
     "data": {
      "text/plain": [
       "[0, 1, 2, 3, 4, 5, 6, 7, 8, 9, 10]"
      ]
     },
     "execution_count": 15,
     "metadata": {},
     "output_type": "execute_result"
    }
   ],
   "source": [
    "l2"
   ]
  },
  {
   "cell_type": "code",
   "execution_count": 16,
   "metadata": {},
   "outputs": [
    {
     "data": {
      "text/html": [
       "<div>\n",
       "<style scoped>\n",
       "    .dataframe tbody tr th:only-of-type {\n",
       "        vertical-align: middle;\n",
       "    }\n",
       "\n",
       "    .dataframe tbody tr th {\n",
       "        vertical-align: top;\n",
       "    }\n",
       "\n",
       "    .dataframe thead th {\n",
       "        text-align: right;\n",
       "    }\n",
       "</style>\n",
       "<table border=\"1\" class=\"dataframe\">\n",
       "  <thead>\n",
       "    <tr style=\"text-align: right;\">\n",
       "      <th></th>\n",
       "      <th>Weather</th>\n",
       "      <th>Assigned Value</th>\n",
       "    </tr>\n",
       "  </thead>\n",
       "  <tbody>\n",
       "    <tr>\n",
       "      <th>0</th>\n",
       "      <td>Clear</td>\n",
       "      <td>0</td>\n",
       "    </tr>\n",
       "    <tr>\n",
       "      <th>1</th>\n",
       "      <td>Clouds</td>\n",
       "      <td>1</td>\n",
       "    </tr>\n",
       "    <tr>\n",
       "      <th>2</th>\n",
       "      <td>Drizzle</td>\n",
       "      <td>2</td>\n",
       "    </tr>\n",
       "    <tr>\n",
       "      <th>3</th>\n",
       "      <td>Fog</td>\n",
       "      <td>3</td>\n",
       "    </tr>\n",
       "    <tr>\n",
       "      <th>4</th>\n",
       "      <td>Haze</td>\n",
       "      <td>4</td>\n",
       "    </tr>\n",
       "    <tr>\n",
       "      <th>5</th>\n",
       "      <td>Mist</td>\n",
       "      <td>5</td>\n",
       "    </tr>\n",
       "    <tr>\n",
       "      <th>6</th>\n",
       "      <td>Rain</td>\n",
       "      <td>6</td>\n",
       "    </tr>\n",
       "    <tr>\n",
       "      <th>7</th>\n",
       "      <td>Smoke</td>\n",
       "      <td>7</td>\n",
       "    </tr>\n",
       "    <tr>\n",
       "      <th>8</th>\n",
       "      <td>Snow</td>\n",
       "      <td>8</td>\n",
       "    </tr>\n",
       "    <tr>\n",
       "      <th>9</th>\n",
       "      <td>Squall</td>\n",
       "      <td>9</td>\n",
       "    </tr>\n",
       "    <tr>\n",
       "      <th>10</th>\n",
       "      <td>Thunderstorm</td>\n",
       "      <td>10</td>\n",
       "    </tr>\n",
       "  </tbody>\n",
       "</table>\n",
       "</div>"
      ],
      "text/plain": [
       "         Weather  Assigned Value\n",
       "0          Clear               0\n",
       "1         Clouds               1\n",
       "2        Drizzle               2\n",
       "3            Fog               3\n",
       "4           Haze               4\n",
       "5           Mist               5\n",
       "6           Rain               6\n",
       "7          Smoke               7\n",
       "8           Snow               8\n",
       "9         Squall               9\n",
       "10  Thunderstorm              10"
      ]
     },
     "execution_count": 16,
     "metadata": {},
     "output_type": "execute_result"
    }
   ],
   "source": [
    "pd.DataFrame(list(zip(l1,l2)),columns=['Weather', 'Assigned Value'], index=None)"
   ]
  },
  {
   "cell_type": "markdown",
   "metadata": {},
   "source": [
    "# <center>**Train Test Split**</center>"
   ]
  },
  {
   "cell_type": "code",
   "execution_count": 17,
   "metadata": {},
   "outputs": [],
   "source": [
    "from sklearn.model_selection import train_test_split"
   ]
  },
  {
   "cell_type": "code",
   "execution_count": 18,
   "metadata": {},
   "outputs": [],
   "source": [
    "x_train,x_test,y_train,y_test = train_test_split(x,y,test_size=0.30,random_state=22)"
   ]
  },
  {
   "cell_type": "code",
   "execution_count": 19,
   "metadata": {},
   "outputs": [
    {
     "data": {
      "text/html": [
       "<div>\n",
       "<style scoped>\n",
       "    .dataframe tbody tr th:only-of-type {\n",
       "        vertical-align: middle;\n",
       "    }\n",
       "\n",
       "    .dataframe tbody tr th {\n",
       "        vertical-align: top;\n",
       "    }\n",
       "\n",
       "    .dataframe thead th {\n",
       "        text-align: right;\n",
       "    }\n",
       "</style>\n",
       "<table border=\"1\" class=\"dataframe\">\n",
       "  <thead>\n",
       "    <tr style=\"text-align: right;\">\n",
       "      <th></th>\n",
       "      <th>holiday</th>\n",
       "      <th>temp</th>\n",
       "      <th>clouds_all</th>\n",
       "      <th>weather_main</th>\n",
       "      <th>year</th>\n",
       "      <th>month</th>\n",
       "      <th>weekday</th>\n",
       "      <th>hour</th>\n",
       "    </tr>\n",
       "    <tr>\n",
       "      <th>date_time</th>\n",
       "      <th></th>\n",
       "      <th></th>\n",
       "      <th></th>\n",
       "      <th></th>\n",
       "      <th></th>\n",
       "      <th></th>\n",
       "      <th></th>\n",
       "      <th></th>\n",
       "    </tr>\n",
       "  </thead>\n",
       "  <tbody>\n",
       "    <tr>\n",
       "      <th>2018-09-12 10:00:00</th>\n",
       "      <td>0</td>\n",
       "      <td>294.49</td>\n",
       "      <td>20</td>\n",
       "      <td>6</td>\n",
       "      <td>2018</td>\n",
       "      <td>9</td>\n",
       "      <td>2</td>\n",
       "      <td>10</td>\n",
       "    </tr>\n",
       "    <tr>\n",
       "      <th>2017-05-18 08:00:00</th>\n",
       "      <td>0</td>\n",
       "      <td>281.83</td>\n",
       "      <td>90</td>\n",
       "      <td>6</td>\n",
       "      <td>2017</td>\n",
       "      <td>5</td>\n",
       "      <td>3</td>\n",
       "      <td>8</td>\n",
       "    </tr>\n",
       "    <tr>\n",
       "      <th>2013-01-14 07:00:00</th>\n",
       "      <td>0</td>\n",
       "      <td>256.34</td>\n",
       "      <td>90</td>\n",
       "      <td>1</td>\n",
       "      <td>2013</td>\n",
       "      <td>1</td>\n",
       "      <td>0</td>\n",
       "      <td>7</td>\n",
       "    </tr>\n",
       "    <tr>\n",
       "      <th>2018-02-24 20:00:00</th>\n",
       "      <td>0</td>\n",
       "      <td>271.35</td>\n",
       "      <td>90</td>\n",
       "      <td>3</td>\n",
       "      <td>2018</td>\n",
       "      <td>2</td>\n",
       "      <td>5</td>\n",
       "      <td>20</td>\n",
       "    </tr>\n",
       "    <tr>\n",
       "      <th>2017-07-05 08:00:00</th>\n",
       "      <td>0</td>\n",
       "      <td>295.65</td>\n",
       "      <td>1</td>\n",
       "      <td>6</td>\n",
       "      <td>2017</td>\n",
       "      <td>7</td>\n",
       "      <td>2</td>\n",
       "      <td>8</td>\n",
       "    </tr>\n",
       "  </tbody>\n",
       "</table>\n",
       "</div>"
      ],
      "text/plain": [
       "                     holiday    temp  clouds_all  weather_main  year  month  \\\n",
       "date_time                                                                     \n",
       "2018-09-12 10:00:00        0  294.49          20             6  2018      9   \n",
       "2017-05-18 08:00:00        0  281.83          90             6  2017      5   \n",
       "2013-01-14 07:00:00        0  256.34          90             1  2013      1   \n",
       "2018-02-24 20:00:00        0  271.35          90             3  2018      2   \n",
       "2017-07-05 08:00:00        0  295.65           1             6  2017      7   \n",
       "\n",
       "                     weekday  hour  \n",
       "date_time                           \n",
       "2018-09-12 10:00:00        2    10  \n",
       "2017-05-18 08:00:00        3     8  \n",
       "2013-01-14 07:00:00        0     7  \n",
       "2018-02-24 20:00:00        5    20  \n",
       "2017-07-05 08:00:00        2     8  "
      ]
     },
     "execution_count": 19,
     "metadata": {},
     "output_type": "execute_result"
    }
   ],
   "source": [
    "x_train.head()"
   ]
  },
  {
   "cell_type": "markdown",
   "metadata": {},
   "source": [
    "# <center>**Scaling the Data**</center>"
   ]
  },
  {
   "cell_type": "code",
   "execution_count": 20,
   "metadata": {},
   "outputs": [],
   "source": [
    "from sklearn.preprocessing import StandardScaler"
   ]
  },
  {
   "cell_type": "code",
   "execution_count": 21,
   "metadata": {},
   "outputs": [],
   "source": [
    "scale = StandardScaler()"
   ]
  },
  {
   "cell_type": "code",
   "execution_count": 22,
   "metadata": {},
   "outputs": [
    {
     "data": {
      "text/plain": [
       "StandardScaler()"
      ]
     },
     "execution_count": 22,
     "metadata": {},
     "output_type": "execute_result"
    }
   ],
   "source": [
    "scale.fit(x_train)"
   ]
  },
  {
   "cell_type": "code",
   "execution_count": 23,
   "metadata": {},
   "outputs": [],
   "source": [
    "x_train_scaled = scale.transform(x_train)"
   ]
  },
  {
   "cell_type": "code",
   "execution_count": 24,
   "metadata": {},
   "outputs": [],
   "source": [
    "x_test_scaled = scale.transform(x_test)"
   ]
  },
  {
   "cell_type": "code",
   "execution_count": 25,
   "metadata": {},
   "outputs": [
    {
     "data": {
      "text/plain": [
       "array([[-0.03823196,  1.04018578, -0.7465836 , ...,  0.73070247,\n",
       "        -0.48926673, -0.19924476],\n",
       "       [-0.03823196,  0.04426294,  1.0468734 , ..., -0.44610515,\n",
       "         0.00873717, -0.48693325],\n",
       "       [-0.03823196, -1.96095611,  1.0468734 , ..., -1.62291278,\n",
       "        -1.48527452, -0.6307775 ],\n",
       "       ...,\n",
       "       [-0.03823196, -0.85175295, -1.23337907, ..., -1.03450896,\n",
       "        -0.98727062, -0.48693325],\n",
       "       [-0.03823196, -0.65429905,  1.0468734 , ..., -1.62291278,\n",
       "        -0.98727062, -1.63768722],\n",
       "       [-0.03823196,  0.29521033, -1.23337907, ..., -0.44610515,\n",
       "        -0.48926673, -0.77462174]])"
      ]
     },
     "execution_count": 25,
     "metadata": {},
     "output_type": "execute_result"
    }
   ],
   "source": [
    "x_train_scaled"
   ]
  },
  {
   "cell_type": "markdown",
   "metadata": {},
   "source": [
    "# <center>**Importing required modules for training**</center>"
   ]
  },
  {
   "cell_type": "code",
   "execution_count": 26,
   "metadata": {},
   "outputs": [],
   "source": [
    "from sklearn.linear_model import LinearRegression,Lasso, Ridge, ElasticNet\n",
    "from sklearn.ensemble import RandomForestRegressor\n",
    "from sklearn.tree import DecisionTreeRegressor\n",
    "from sklearn.svm import SVR\n",
    "from xgboost import XGBRegressor\n",
    "from sklearn.neighbors import KNeighborsRegressor\n",
    "from sklearn.metrics import r2_score, mean_absolute_error\n",
    "from sklearn.model_selection import RandomizedSearchCV"
   ]
  },
  {
   "cell_type": "markdown",
   "metadata": {},
   "source": [
    "# <center>**Model Training**</center>"
   ]
  },
  {
   "cell_type": "code",
   "execution_count": 27,
   "metadata": {},
   "outputs": [],
   "source": [
    "def train_model(models,model_names, x_train_scaled, x_test_scaled, y_train, y_test):\n",
    "    model_res = []\n",
    "    perc_res = []\n",
    "    for model in range(len(models)):\n",
    "        regressor = models[model]\n",
    "        regressor.fit(x_train_scaled, y_train)\n",
    "        y_pred = regressor.predict(x_test_scaled)\n",
    "        mae = mean_absolute_error(y_test, y_pred)\n",
    "        r2 = r2_score(y_test, y_pred)\n",
    "        perc = r2*100\n",
    "        perc_res.append(perc)\n",
    "        model_res.append(r2)\n",
    "        print(f\"{'-'*30} {model_names[model]} {'-'*30}\")\n",
    "        print(f'Mean Absolute Error : {mae}')\n",
    "        print(f'R2 Score : {r2}')\n",
    "        print(f'Percentage(r2) : {perc}')\n",
    "\n",
    "        print('*'*80)\n",
    "        \n",
    "    result_df = pd.DataFrame(list(zip(model_names, model_res, perc_res)), columns = ['Model', 'R2_Score', 'Accuracy Percentage'])\n",
    "    return result_df "
   ]
  },
  {
   "cell_type": "code",
   "execution_count": 28,
   "metadata": {},
   "outputs": [],
   "source": [
    "models = [LinearRegression(), Ridge(), Lasso(), ElasticNet(), SVR(), XGBRegressor(), RandomForestRegressor(), KNeighborsRegressor(), DecisionTreeRegressor()]\n",
    "model_names = ['Linear Regression', 'Ridge Regression', 'Lasso Regression', 'ElasticNet Regression', 'SVR', 'XGB Regressor', 'Random Forest Regressor', 'K Neighbors Regressor', 'Decision Tree Regressor']\n"
   ]
  },
  {
   "cell_type": "code",
   "execution_count": 29,
   "metadata": {},
   "outputs": [
    {
     "name": "stdout",
     "output_type": "stream",
     "text": [
      "------------------------------ Linear Regression ------------------------------\n",
      "Mean Absolute Error : 1598.8662665639945\n",
      "R2 Score : 0.161249167099626\n",
      "Percentage(r2) : 16.1249167099626\n",
      "********************************************************************************\n",
      "------------------------------ Ridge Regression ------------------------------\n",
      "Mean Absolute Error : 1598.8689334136534\n",
      "R2 Score : 0.16124919412795125\n",
      "Percentage(r2) : 16.124919412795123\n",
      "********************************************************************************\n",
      "------------------------------ Lasso Regression ------------------------------\n",
      "Mean Absolute Error : 1599.1426996196676\n",
      "R2 Score : 0.16126511261963783\n",
      "Percentage(r2) : 16.126511261963785\n",
      "********************************************************************************\n",
      "------------------------------ ElasticNet Regression ------------------------------\n",
      "Mean Absolute Error : 1634.1034368543083\n",
      "R2 Score : 0.14421735416111037\n",
      "Percentage(r2) : 14.421735416111037\n",
      "********************************************************************************\n",
      "------------------------------ SVR ------------------------------\n",
      "Mean Absolute Error : 1509.2749934370806\n",
      "R2 Score : 0.24751277113655068\n",
      "Percentage(r2) : 24.751277113655068\n",
      "********************************************************************************\n",
      "------------------------------ XGB Regressor ------------------------------\n",
      "Mean Absolute Error : 240.87170886522802\n",
      "R2 Score : 0.9572406328882056\n",
      "Percentage(r2) : 95.72406328882056\n",
      "********************************************************************************\n",
      "------------------------------ Random Forest Regressor ------------------------------\n",
      "Mean Absolute Error : 233.71085001390048\n",
      "R2 Score : 0.9526526982769156\n",
      "Percentage(r2) : 95.26526982769155\n",
      "********************************************************************************\n",
      "------------------------------ K Neighbors Regressor ------------------------------\n",
      "Mean Absolute Error : 569.7653461217682\n",
      "R2 Score : 0.8287793325675371\n",
      "Percentage(r2) : 82.8779332567537\n",
      "********************************************************************************\n",
      "------------------------------ Decision Tree Regressor ------------------------------\n",
      "Mean Absolute Error : 290.17604948568254\n",
      "R2 Score : 0.9112418118966097\n",
      "Percentage(r2) : 91.12418118966097\n",
      "********************************************************************************\n"
     ]
    }
   ],
   "source": [
    "model_res = train_model(models,model_names, x_train_scaled, x_test_scaled, y_train, y_test)"
   ]
  },
  {
   "cell_type": "code",
   "execution_count": 30,
   "metadata": {},
   "outputs": [
    {
     "data": {
      "text/html": [
       "<div>\n",
       "<style scoped>\n",
       "    .dataframe tbody tr th:only-of-type {\n",
       "        vertical-align: middle;\n",
       "    }\n",
       "\n",
       "    .dataframe tbody tr th {\n",
       "        vertical-align: top;\n",
       "    }\n",
       "\n",
       "    .dataframe thead th {\n",
       "        text-align: right;\n",
       "    }\n",
       "</style>\n",
       "<table border=\"1\" class=\"dataframe\">\n",
       "  <thead>\n",
       "    <tr style=\"text-align: right;\">\n",
       "      <th></th>\n",
       "      <th>Model</th>\n",
       "      <th>R2_Score</th>\n",
       "      <th>Accuracy Percentage</th>\n",
       "    </tr>\n",
       "  </thead>\n",
       "  <tbody>\n",
       "    <tr>\n",
       "      <th>0</th>\n",
       "      <td>Linear Regression</td>\n",
       "      <td>0.161249</td>\n",
       "      <td>16.124917</td>\n",
       "    </tr>\n",
       "    <tr>\n",
       "      <th>1</th>\n",
       "      <td>Ridge Regression</td>\n",
       "      <td>0.161249</td>\n",
       "      <td>16.124919</td>\n",
       "    </tr>\n",
       "    <tr>\n",
       "      <th>2</th>\n",
       "      <td>Lasso Regression</td>\n",
       "      <td>0.161265</td>\n",
       "      <td>16.126511</td>\n",
       "    </tr>\n",
       "    <tr>\n",
       "      <th>3</th>\n",
       "      <td>ElasticNet Regression</td>\n",
       "      <td>0.144217</td>\n",
       "      <td>14.421735</td>\n",
       "    </tr>\n",
       "    <tr>\n",
       "      <th>4</th>\n",
       "      <td>SVR</td>\n",
       "      <td>0.247513</td>\n",
       "      <td>24.751277</td>\n",
       "    </tr>\n",
       "    <tr>\n",
       "      <th>5</th>\n",
       "      <td>XGB Regressor</td>\n",
       "      <td>0.957241</td>\n",
       "      <td>95.724063</td>\n",
       "    </tr>\n",
       "    <tr>\n",
       "      <th>6</th>\n",
       "      <td>Random Forest Regressor</td>\n",
       "      <td>0.952653</td>\n",
       "      <td>95.265270</td>\n",
       "    </tr>\n",
       "    <tr>\n",
       "      <th>7</th>\n",
       "      <td>K Neighbors Regressor</td>\n",
       "      <td>0.828779</td>\n",
       "      <td>82.877933</td>\n",
       "    </tr>\n",
       "    <tr>\n",
       "      <th>8</th>\n",
       "      <td>Decision Tree Regressor</td>\n",
       "      <td>0.911242</td>\n",
       "      <td>91.124181</td>\n",
       "    </tr>\n",
       "  </tbody>\n",
       "</table>\n",
       "</div>"
      ],
      "text/plain": [
       "                     Model  R2_Score  Accuracy Percentage\n",
       "0        Linear Regression  0.161249            16.124917\n",
       "1         Ridge Regression  0.161249            16.124919\n",
       "2         Lasso Regression  0.161265            16.126511\n",
       "3    ElasticNet Regression  0.144217            14.421735\n",
       "4                      SVR  0.247513            24.751277\n",
       "5            XGB Regressor  0.957241            95.724063\n",
       "6  Random Forest Regressor  0.952653            95.265270\n",
       "7    K Neighbors Regressor  0.828779            82.877933\n",
       "8  Decision Tree Regressor  0.911242            91.124181"
      ]
     },
     "execution_count": 30,
     "metadata": {},
     "output_type": "execute_result"
    }
   ],
   "source": [
    "model_res"
   ]
  },
  {
   "cell_type": "markdown",
   "metadata": {},
   "source": [
    "- Here, XGB Regressor and Random Forest Regressor are the two most accurate models with 95.72% and 95.31% accuracy respectively.\n",
    "- So, we will tune hyperparameters for these algorithms and use the best model for prediction."
   ]
  },
  {
   "cell_type": "markdown",
   "metadata": {},
   "source": [
    "# <center>**HyperParameter Tuning**</center>"
   ]
  },
  {
   "cell_type": "markdown",
   "metadata": {},
   "source": [
    "We will use RandomizedSearchCV for hyperparameter tuning."
   ]
  },
  {
   "cell_type": "markdown",
   "metadata": {},
   "source": [
    "#### 1. Tuning XGB Regressor"
   ]
  },
  {
   "cell_type": "code",
   "execution_count": 31,
   "metadata": {},
   "outputs": [],
   "source": [
    "params_grid = [{'learning_rate' : [0.1,0.2,0.3,0.35],\n",
    "             'max_depth' : [6,8,9],\n",
    "             'gamma': [0.1, 0.3, 0.4, 0.5 ]\n",
    "}]\n"
   ]
  },
  {
   "cell_type": "code",
   "execution_count": 32,
   "metadata": {},
   "outputs": [],
   "source": [
    "xgb = XGBRegressor()"
   ]
  },
  {
   "cell_type": "code",
   "execution_count": 33,
   "metadata": {},
   "outputs": [],
   "source": [
    "rcv = RandomizedSearchCV(estimator = xgb, param_distributions=params_grid, n_iter=100, cv= 5, verbose = 2)"
   ]
  },
  {
   "cell_type": "code",
   "execution_count": 35,
   "metadata": {},
   "outputs": [
    {
     "name": "stderr",
     "output_type": "stream",
     "text": [
      "c:\\Data-Science-Projects\\Metro-Interstate-Traffic-Analysis\\venv\\lib\\site-packages\\sklearn\\model_selection\\_search.py:296: UserWarning: The total space of parameters 48 is smaller than n_iter=100. Running 48 iterations. For exhaustive searches, use GridSearchCV.\n",
      "  UserWarning,\n"
     ]
    },
    {
     "name": "stdout",
     "output_type": "stream",
     "text": [
      "Fitting 5 folds for each of 48 candidates, totalling 240 fits\n",
      "[CV] END ..........gamma=0.1, learning_rate=0.1, max_depth=6; total time=   3.1s\n",
      "[CV] END ..........gamma=0.1, learning_rate=0.1, max_depth=6; total time=   2.6s\n",
      "[CV] END ..........gamma=0.1, learning_rate=0.1, max_depth=6; total time=   2.9s\n",
      "[CV] END ..........gamma=0.1, learning_rate=0.1, max_depth=6; total time=   2.7s\n",
      "[CV] END ..........gamma=0.1, learning_rate=0.1, max_depth=6; total time=   2.9s\n",
      "[CV] END ..........gamma=0.1, learning_rate=0.1, max_depth=8; total time=   4.9s\n",
      "[CV] END ..........gamma=0.1, learning_rate=0.1, max_depth=8; total time=   4.6s\n",
      "[CV] END ..........gamma=0.1, learning_rate=0.1, max_depth=8; total time=   5.1s\n",
      "[CV] END ..........gamma=0.1, learning_rate=0.1, max_depth=8; total time=   3.8s\n",
      "[CV] END ..........gamma=0.1, learning_rate=0.1, max_depth=8; total time=   4.2s\n",
      "[CV] END ..........gamma=0.1, learning_rate=0.1, max_depth=9; total time=   4.8s\n",
      "[CV] END ..........gamma=0.1, learning_rate=0.1, max_depth=9; total time=   5.2s\n",
      "[CV] END ..........gamma=0.1, learning_rate=0.1, max_depth=9; total time=   5.0s\n",
      "[CV] END ..........gamma=0.1, learning_rate=0.1, max_depth=9; total time=   4.3s\n",
      "[CV] END ..........gamma=0.1, learning_rate=0.1, max_depth=9; total time=   4.3s\n",
      "[CV] END ..........gamma=0.1, learning_rate=0.2, max_depth=6; total time=   2.4s\n",
      "[CV] END ..........gamma=0.1, learning_rate=0.2, max_depth=6; total time=   2.8s\n",
      "[CV] END ..........gamma=0.1, learning_rate=0.2, max_depth=6; total time=   2.6s\n",
      "[CV] END ..........gamma=0.1, learning_rate=0.2, max_depth=6; total time=   2.7s\n",
      "[CV] END ..........gamma=0.1, learning_rate=0.2, max_depth=6; total time=   2.5s\n",
      "[CV] END ..........gamma=0.1, learning_rate=0.2, max_depth=8; total time=   7.2s\n",
      "[CV] END ..........gamma=0.1, learning_rate=0.2, max_depth=8; total time=   6.3s\n",
      "[CV] END ..........gamma=0.1, learning_rate=0.2, max_depth=8; total time=   6.0s\n",
      "[CV] END ..........gamma=0.1, learning_rate=0.2, max_depth=8; total time=   3.2s\n",
      "[CV] END ..........gamma=0.1, learning_rate=0.2, max_depth=8; total time=   3.5s\n",
      "[CV] END ..........gamma=0.1, learning_rate=0.2, max_depth=9; total time=   3.8s\n",
      "[CV] END ..........gamma=0.1, learning_rate=0.2, max_depth=9; total time=   3.9s\n",
      "[CV] END ..........gamma=0.1, learning_rate=0.2, max_depth=9; total time=   4.0s\n",
      "[CV] END ..........gamma=0.1, learning_rate=0.2, max_depth=9; total time=   4.1s\n",
      "[CV] END ..........gamma=0.1, learning_rate=0.2, max_depth=9; total time=   3.9s\n",
      "[CV] END ..........gamma=0.1, learning_rate=0.3, max_depth=6; total time=   2.3s\n",
      "[CV] END ..........gamma=0.1, learning_rate=0.3, max_depth=6; total time=   2.4s\n",
      "[CV] END ..........gamma=0.1, learning_rate=0.3, max_depth=6; total time=   2.2s\n",
      "[CV] END ..........gamma=0.1, learning_rate=0.3, max_depth=6; total time=   2.5s\n",
      "[CV] END ..........gamma=0.1, learning_rate=0.3, max_depth=6; total time=   3.5s\n",
      "[CV] END ..........gamma=0.1, learning_rate=0.3, max_depth=8; total time=   4.0s\n",
      "[CV] END ..........gamma=0.1, learning_rate=0.3, max_depth=8; total time=   3.5s\n",
      "[CV] END ..........gamma=0.1, learning_rate=0.3, max_depth=8; total time=   3.3s\n",
      "[CV] END ..........gamma=0.1, learning_rate=0.3, max_depth=8; total time=   3.3s\n",
      "[CV] END ..........gamma=0.1, learning_rate=0.3, max_depth=8; total time=   4.0s\n",
      "[CV] END ..........gamma=0.1, learning_rate=0.3, max_depth=9; total time=   4.4s\n",
      "[CV] END ..........gamma=0.1, learning_rate=0.3, max_depth=9; total time=   4.8s\n",
      "[CV] END ..........gamma=0.1, learning_rate=0.3, max_depth=9; total time=   5.8s\n",
      "[CV] END ..........gamma=0.1, learning_rate=0.3, max_depth=9; total time=   6.1s\n",
      "[CV] END ..........gamma=0.1, learning_rate=0.3, max_depth=9; total time=   4.5s\n",
      "[CV] END .........gamma=0.1, learning_rate=0.35, max_depth=6; total time=   2.7s\n",
      "[CV] END .........gamma=0.1, learning_rate=0.35, max_depth=6; total time=   3.0s\n",
      "[CV] END .........gamma=0.1, learning_rate=0.35, max_depth=6; total time=   2.7s\n",
      "[CV] END .........gamma=0.1, learning_rate=0.35, max_depth=6; total time=   3.0s\n",
      "[CV] END .........gamma=0.1, learning_rate=0.35, max_depth=6; total time=   2.3s\n",
      "[CV] END .........gamma=0.1, learning_rate=0.35, max_depth=8; total time=   3.5s\n",
      "[CV] END .........gamma=0.1, learning_rate=0.35, max_depth=8; total time=   4.7s\n",
      "[CV] END .........gamma=0.1, learning_rate=0.35, max_depth=8; total time=   4.2s\n",
      "[CV] END .........gamma=0.1, learning_rate=0.35, max_depth=8; total time=   5.1s\n",
      "[CV] END .........gamma=0.1, learning_rate=0.35, max_depth=8; total time=   4.9s\n",
      "[CV] END .........gamma=0.1, learning_rate=0.35, max_depth=9; total time=   5.9s\n",
      "[CV] END .........gamma=0.1, learning_rate=0.35, max_depth=9; total time=   5.9s\n",
      "[CV] END .........gamma=0.1, learning_rate=0.35, max_depth=9; total time=   6.2s\n",
      "[CV] END .........gamma=0.1, learning_rate=0.35, max_depth=9; total time=   5.8s\n",
      "[CV] END .........gamma=0.1, learning_rate=0.35, max_depth=9; total time=   5.5s\n",
      "[CV] END ..........gamma=0.3, learning_rate=0.1, max_depth=6; total time=   4.3s\n",
      "[CV] END ..........gamma=0.3, learning_rate=0.1, max_depth=6; total time=   4.0s\n",
      "[CV] END ..........gamma=0.3, learning_rate=0.1, max_depth=6; total time=   3.8s\n",
      "[CV] END ..........gamma=0.3, learning_rate=0.1, max_depth=6; total time=   3.9s\n",
      "[CV] END ..........gamma=0.3, learning_rate=0.1, max_depth=6; total time=   4.2s\n",
      "[CV] END ..........gamma=0.3, learning_rate=0.1, max_depth=8; total time=   5.2s\n",
      "[CV] END ..........gamma=0.3, learning_rate=0.1, max_depth=8; total time=   5.1s\n",
      "[CV] END ..........gamma=0.3, learning_rate=0.1, max_depth=8; total time=   5.7s\n",
      "[CV] END ..........gamma=0.3, learning_rate=0.1, max_depth=8; total time=   5.5s\n",
      "[CV] END ..........gamma=0.3, learning_rate=0.1, max_depth=8; total time=   5.3s\n",
      "[CV] END ..........gamma=0.3, learning_rate=0.1, max_depth=9; total time=   6.0s\n",
      "[CV] END ..........gamma=0.3, learning_rate=0.1, max_depth=9; total time=   5.8s\n",
      "[CV] END ..........gamma=0.3, learning_rate=0.1, max_depth=9; total time=   6.3s\n",
      "[CV] END ..........gamma=0.3, learning_rate=0.1, max_depth=9; total time=   6.3s\n",
      "[CV] END ..........gamma=0.3, learning_rate=0.1, max_depth=9; total time=   6.5s\n",
      "[CV] END ..........gamma=0.3, learning_rate=0.2, max_depth=6; total time=   3.6s\n",
      "[CV] END ..........gamma=0.3, learning_rate=0.2, max_depth=6; total time=   3.4s\n",
      "[CV] END ..........gamma=0.3, learning_rate=0.2, max_depth=6; total time=   3.6s\n",
      "[CV] END ..........gamma=0.3, learning_rate=0.2, max_depth=6; total time=   3.9s\n",
      "[CV] END ..........gamma=0.3, learning_rate=0.2, max_depth=6; total time=   3.7s\n",
      "[CV] END ..........gamma=0.3, learning_rate=0.2, max_depth=8; total time=   5.5s\n",
      "[CV] END ..........gamma=0.3, learning_rate=0.2, max_depth=8; total time=   5.4s\n",
      "[CV] END ..........gamma=0.3, learning_rate=0.2, max_depth=8; total time=   5.4s\n",
      "[CV] END ..........gamma=0.3, learning_rate=0.2, max_depth=8; total time=   4.9s\n",
      "[CV] END ..........gamma=0.3, learning_rate=0.2, max_depth=8; total time=   5.2s\n",
      "[CV] END ..........gamma=0.3, learning_rate=0.2, max_depth=9; total time=   5.6s\n",
      "[CV] END ..........gamma=0.3, learning_rate=0.2, max_depth=9; total time=   5.9s\n",
      "[CV] END ..........gamma=0.3, learning_rate=0.2, max_depth=9; total time=   6.4s\n",
      "[CV] END ..........gamma=0.3, learning_rate=0.2, max_depth=9; total time=   5.8s\n",
      "[CV] END ..........gamma=0.3, learning_rate=0.2, max_depth=9; total time=   6.0s\n",
      "[CV] END ..........gamma=0.3, learning_rate=0.3, max_depth=6; total time=   3.7s\n",
      "[CV] END ..........gamma=0.3, learning_rate=0.3, max_depth=6; total time=   3.8s\n",
      "[CV] END ..........gamma=0.3, learning_rate=0.3, max_depth=6; total time=   3.6s\n",
      "[CV] END ..........gamma=0.3, learning_rate=0.3, max_depth=6; total time=   3.7s\n",
      "[CV] END ..........gamma=0.3, learning_rate=0.3, max_depth=6; total time=   3.4s\n",
      "[CV] END ..........gamma=0.3, learning_rate=0.3, max_depth=8; total time=   4.6s\n",
      "[CV] END ..........gamma=0.3, learning_rate=0.3, max_depth=8; total time=   4.8s\n",
      "[CV] END ..........gamma=0.3, learning_rate=0.3, max_depth=8; total time=   5.2s\n",
      "[CV] END ..........gamma=0.3, learning_rate=0.3, max_depth=8; total time=   4.9s\n",
      "[CV] END ..........gamma=0.3, learning_rate=0.3, max_depth=8; total time=   6.1s\n",
      "[CV] END ..........gamma=0.3, learning_rate=0.3, max_depth=9; total time=   5.5s\n",
      "[CV] END ..........gamma=0.3, learning_rate=0.3, max_depth=9; total time=   5.7s\n",
      "[CV] END ..........gamma=0.3, learning_rate=0.3, max_depth=9; total time=   5.8s\n",
      "[CV] END ..........gamma=0.3, learning_rate=0.3, max_depth=9; total time=   6.1s\n",
      "[CV] END ..........gamma=0.3, learning_rate=0.3, max_depth=9; total time=   6.0s\n",
      "[CV] END .........gamma=0.3, learning_rate=0.35, max_depth=6; total time=   3.8s\n",
      "[CV] END .........gamma=0.3, learning_rate=0.35, max_depth=6; total time=   3.3s\n",
      "[CV] END .........gamma=0.3, learning_rate=0.35, max_depth=6; total time=   3.2s\n",
      "[CV] END .........gamma=0.3, learning_rate=0.35, max_depth=6; total time=   4.1s\n",
      "[CV] END .........gamma=0.3, learning_rate=0.35, max_depth=6; total time=   3.7s\n",
      "[CV] END .........gamma=0.3, learning_rate=0.35, max_depth=8; total time=   5.1s\n",
      "[CV] END .........gamma=0.3, learning_rate=0.35, max_depth=8; total time=   5.2s\n",
      "[CV] END .........gamma=0.3, learning_rate=0.35, max_depth=8; total time=   4.8s\n",
      "[CV] END .........gamma=0.3, learning_rate=0.35, max_depth=8; total time=   5.0s\n",
      "[CV] END .........gamma=0.3, learning_rate=0.35, max_depth=8; total time=   4.8s\n",
      "[CV] END .........gamma=0.3, learning_rate=0.35, max_depth=9; total time=   6.2s\n",
      "[CV] END .........gamma=0.3, learning_rate=0.35, max_depth=9; total time=   5.9s\n",
      "[CV] END .........gamma=0.3, learning_rate=0.35, max_depth=9; total time=   6.1s\n",
      "[CV] END .........gamma=0.3, learning_rate=0.35, max_depth=9; total time=   5.9s\n",
      "[CV] END .........gamma=0.3, learning_rate=0.35, max_depth=9; total time=   6.1s\n",
      "[CV] END ..........gamma=0.4, learning_rate=0.1, max_depth=6; total time=   3.9s\n",
      "[CV] END ..........gamma=0.4, learning_rate=0.1, max_depth=6; total time=   3.9s\n",
      "[CV] END ..........gamma=0.4, learning_rate=0.1, max_depth=6; total time=   3.8s\n",
      "[CV] END ..........gamma=0.4, learning_rate=0.1, max_depth=6; total time=   4.2s\n",
      "[CV] END ..........gamma=0.4, learning_rate=0.1, max_depth=6; total time=   4.3s\n",
      "[CV] END ..........gamma=0.4, learning_rate=0.1, max_depth=8; total time=   5.5s\n",
      "[CV] END ..........gamma=0.4, learning_rate=0.1, max_depth=8; total time=   5.7s\n",
      "[CV] END ..........gamma=0.4, learning_rate=0.1, max_depth=8; total time=   5.8s\n",
      "[CV] END ..........gamma=0.4, learning_rate=0.1, max_depth=8; total time=   5.8s\n",
      "[CV] END ..........gamma=0.4, learning_rate=0.1, max_depth=8; total time=   5.7s\n",
      "[CV] END ..........gamma=0.4, learning_rate=0.1, max_depth=9; total time=   6.6s\n",
      "[CV] END ..........gamma=0.4, learning_rate=0.1, max_depth=9; total time=   6.7s\n",
      "[CV] END ..........gamma=0.4, learning_rate=0.1, max_depth=9; total time=   6.6s\n",
      "[CV] END ..........gamma=0.4, learning_rate=0.1, max_depth=9; total time=   6.2s\n",
      "[CV] END ..........gamma=0.4, learning_rate=0.1, max_depth=9; total time=   5.9s\n",
      "[CV] END ..........gamma=0.4, learning_rate=0.2, max_depth=6; total time=   3.7s\n",
      "[CV] END ..........gamma=0.4, learning_rate=0.2, max_depth=6; total time=   3.3s\n",
      "[CV] END ..........gamma=0.4, learning_rate=0.2, max_depth=6; total time=   3.6s\n",
      "[CV] END ..........gamma=0.4, learning_rate=0.2, max_depth=6; total time=   3.7s\n",
      "[CV] END ..........gamma=0.4, learning_rate=0.2, max_depth=6; total time=   3.6s\n",
      "[CV] END ..........gamma=0.4, learning_rate=0.2, max_depth=8; total time=   5.1s\n",
      "[CV] END ..........gamma=0.4, learning_rate=0.2, max_depth=8; total time=   5.2s\n",
      "[CV] END ..........gamma=0.4, learning_rate=0.2, max_depth=8; total time=   5.0s\n",
      "[CV] END ..........gamma=0.4, learning_rate=0.2, max_depth=8; total time=   7.4s\n",
      "[CV] END ..........gamma=0.4, learning_rate=0.2, max_depth=8; total time=   6.1s\n",
      "[CV] END ..........gamma=0.4, learning_rate=0.2, max_depth=9; total time=   6.4s\n",
      "[CV] END ..........gamma=0.4, learning_rate=0.2, max_depth=9; total time=   5.8s\n",
      "[CV] END ..........gamma=0.4, learning_rate=0.2, max_depth=9; total time=   6.7s\n",
      "[CV] END ..........gamma=0.4, learning_rate=0.2, max_depth=9; total time=   6.6s\n",
      "[CV] END ..........gamma=0.4, learning_rate=0.2, max_depth=9; total time=   6.3s\n",
      "[CV] END ..........gamma=0.4, learning_rate=0.3, max_depth=6; total time=   4.2s\n",
      "[CV] END ..........gamma=0.4, learning_rate=0.3, max_depth=6; total time=   4.0s\n",
      "[CV] END ..........gamma=0.4, learning_rate=0.3, max_depth=6; total time=   3.4s\n",
      "[CV] END ..........gamma=0.4, learning_rate=0.3, max_depth=6; total time=   3.7s\n",
      "[CV] END ..........gamma=0.4, learning_rate=0.3, max_depth=6; total time=   3.7s\n",
      "[CV] END ..........gamma=0.4, learning_rate=0.3, max_depth=8; total time=   5.1s\n",
      "[CV] END ..........gamma=0.4, learning_rate=0.3, max_depth=8; total time=   5.9s\n",
      "[CV] END ..........gamma=0.4, learning_rate=0.3, max_depth=8; total time=   5.7s\n",
      "[CV] END ..........gamma=0.4, learning_rate=0.3, max_depth=8; total time=   5.2s\n",
      "[CV] END ..........gamma=0.4, learning_rate=0.3, max_depth=8; total time=   5.1s\n",
      "[CV] END ..........gamma=0.4, learning_rate=0.3, max_depth=9; total time=   6.2s\n",
      "[CV] END ..........gamma=0.4, learning_rate=0.3, max_depth=9; total time=  10.6s\n",
      "[CV] END ..........gamma=0.4, learning_rate=0.3, max_depth=9; total time=   9.4s\n",
      "[CV] END ..........gamma=0.4, learning_rate=0.3, max_depth=9; total time=   8.0s\n",
      "[CV] END ..........gamma=0.4, learning_rate=0.3, max_depth=9; total time=   9.1s\n",
      "[CV] END .........gamma=0.4, learning_rate=0.35, max_depth=6; total time=   4.6s\n",
      "[CV] END .........gamma=0.4, learning_rate=0.35, max_depth=6; total time=   4.4s\n",
      "[CV] END .........gamma=0.4, learning_rate=0.35, max_depth=6; total time=   3.9s\n",
      "[CV] END .........gamma=0.4, learning_rate=0.35, max_depth=6; total time=   4.6s\n",
      "[CV] END .........gamma=0.4, learning_rate=0.35, max_depth=6; total time=   4.5s\n",
      "[CV] END .........gamma=0.4, learning_rate=0.35, max_depth=8; total time=   8.3s\n",
      "[CV] END .........gamma=0.4, learning_rate=0.35, max_depth=8; total time=   5.4s\n",
      "[CV] END .........gamma=0.4, learning_rate=0.35, max_depth=8; total time=   5.6s\n",
      "[CV] END .........gamma=0.4, learning_rate=0.35, max_depth=8; total time=   7.0s\n",
      "[CV] END .........gamma=0.4, learning_rate=0.35, max_depth=8; total time=   7.9s\n",
      "[CV] END .........gamma=0.4, learning_rate=0.35, max_depth=9; total time=   7.4s\n",
      "[CV] END .........gamma=0.4, learning_rate=0.35, max_depth=9; total time=   6.3s\n",
      "[CV] END .........gamma=0.4, learning_rate=0.35, max_depth=9; total time=   6.3s\n",
      "[CV] END .........gamma=0.4, learning_rate=0.35, max_depth=9; total time=   6.9s\n",
      "[CV] END .........gamma=0.4, learning_rate=0.35, max_depth=9; total time=   6.2s\n",
      "[CV] END ..........gamma=0.5, learning_rate=0.1, max_depth=6; total time=   4.3s\n",
      "[CV] END ..........gamma=0.5, learning_rate=0.1, max_depth=6; total time=   4.1s\n",
      "[CV] END ..........gamma=0.5, learning_rate=0.1, max_depth=6; total time=   3.8s\n",
      "[CV] END ..........gamma=0.5, learning_rate=0.1, max_depth=6; total time=   4.3s\n",
      "[CV] END ..........gamma=0.5, learning_rate=0.1, max_depth=6; total time=   4.2s\n",
      "[CV] END ..........gamma=0.5, learning_rate=0.1, max_depth=8; total time=   7.0s\n",
      "[CV] END ..........gamma=0.5, learning_rate=0.1, max_depth=8; total time=   6.8s\n",
      "[CV] END ..........gamma=0.5, learning_rate=0.1, max_depth=8; total time=   6.0s\n",
      "[CV] END ..........gamma=0.5, learning_rate=0.1, max_depth=8; total time=   5.8s\n",
      "[CV] END ..........gamma=0.5, learning_rate=0.1, max_depth=8; total time=   6.9s\n",
      "[CV] END ..........gamma=0.5, learning_rate=0.1, max_depth=9; total time=   8.5s\n",
      "[CV] END ..........gamma=0.5, learning_rate=0.1, max_depth=9; total time=   6.8s\n",
      "[CV] END ..........gamma=0.5, learning_rate=0.1, max_depth=9; total time=  10.1s\n",
      "[CV] END ..........gamma=0.5, learning_rate=0.1, max_depth=9; total time=  20.4s\n",
      "[CV] END ..........gamma=0.5, learning_rate=0.1, max_depth=9; total time=   9.0s\n",
      "[CV] END ..........gamma=0.5, learning_rate=0.2, max_depth=6; total time=   5.7s\n",
      "[CV] END ..........gamma=0.5, learning_rate=0.2, max_depth=6; total time=   5.4s\n",
      "[CV] END ..........gamma=0.5, learning_rate=0.2, max_depth=6; total time=   4.9s\n",
      "[CV] END ..........gamma=0.5, learning_rate=0.2, max_depth=6; total time=   5.0s\n",
      "[CV] END ..........gamma=0.5, learning_rate=0.2, max_depth=6; total time=   5.7s\n",
      "[CV] END ..........gamma=0.5, learning_rate=0.2, max_depth=8; total time=   7.8s\n",
      "[CV] END ..........gamma=0.5, learning_rate=0.2, max_depth=8; total time=   8.3s\n",
      "[CV] END ..........gamma=0.5, learning_rate=0.2, max_depth=8; total time=  17.9s\n",
      "[CV] END ..........gamma=0.5, learning_rate=0.2, max_depth=8; total time=  13.3s\n",
      "[CV] END ..........gamma=0.5, learning_rate=0.2, max_depth=8; total time=   7.3s\n",
      "[CV] END ..........gamma=0.5, learning_rate=0.2, max_depth=9; total time=  12.9s\n",
      "[CV] END ..........gamma=0.5, learning_rate=0.2, max_depth=9; total time=  12.9s\n",
      "[CV] END ..........gamma=0.5, learning_rate=0.2, max_depth=9; total time=  12.1s\n",
      "[CV] END ..........gamma=0.5, learning_rate=0.2, max_depth=9; total time=   9.6s\n",
      "[CV] END ..........gamma=0.5, learning_rate=0.2, max_depth=9; total time=  14.2s\n",
      "[CV] END ..........gamma=0.5, learning_rate=0.3, max_depth=6; total time=   6.9s\n",
      "[CV] END ..........gamma=0.5, learning_rate=0.3, max_depth=6; total time=   7.5s\n",
      "[CV] END ..........gamma=0.5, learning_rate=0.3, max_depth=6; total time=   5.5s\n",
      "[CV] END ..........gamma=0.5, learning_rate=0.3, max_depth=6; total time=   5.3s\n",
      "[CV] END ..........gamma=0.5, learning_rate=0.3, max_depth=6; total time=   4.9s\n",
      "[CV] END ..........gamma=0.5, learning_rate=0.3, max_depth=8; total time=   7.3s\n",
      "[CV] END ..........gamma=0.5, learning_rate=0.3, max_depth=8; total time=   8.3s\n",
      "[CV] END ..........gamma=0.5, learning_rate=0.3, max_depth=8; total time=   7.4s\n",
      "[CV] END ..........gamma=0.5, learning_rate=0.3, max_depth=8; total time=   7.7s\n",
      "[CV] END ..........gamma=0.5, learning_rate=0.3, max_depth=8; total time=   6.5s\n",
      "[CV] END ..........gamma=0.5, learning_rate=0.3, max_depth=9; total time=   7.8s\n",
      "[CV] END ..........gamma=0.5, learning_rate=0.3, max_depth=9; total time=   7.2s\n",
      "[CV] END ..........gamma=0.5, learning_rate=0.3, max_depth=9; total time=   7.0s\n",
      "[CV] END ..........gamma=0.5, learning_rate=0.3, max_depth=9; total time=   7.3s\n",
      "[CV] END ..........gamma=0.5, learning_rate=0.3, max_depth=9; total time=   7.6s\n",
      "[CV] END .........gamma=0.5, learning_rate=0.35, max_depth=6; total time=   4.7s\n",
      "[CV] END .........gamma=0.5, learning_rate=0.35, max_depth=6; total time=   4.8s\n",
      "[CV] END .........gamma=0.5, learning_rate=0.35, max_depth=6; total time=   4.7s\n",
      "[CV] END .........gamma=0.5, learning_rate=0.35, max_depth=6; total time=   5.0s\n",
      "[CV] END .........gamma=0.5, learning_rate=0.35, max_depth=6; total time=   4.9s\n",
      "[CV] END .........gamma=0.5, learning_rate=0.35, max_depth=8; total time=   7.4s\n",
      "[CV] END .........gamma=0.5, learning_rate=0.35, max_depth=8; total time=   7.1s\n",
      "[CV] END .........gamma=0.5, learning_rate=0.35, max_depth=8; total time=   6.8s\n",
      "[CV] END .........gamma=0.5, learning_rate=0.35, max_depth=8; total time=   7.1s\n",
      "[CV] END .........gamma=0.5, learning_rate=0.35, max_depth=8; total time=   7.1s\n",
      "[CV] END .........gamma=0.5, learning_rate=0.35, max_depth=9; total time=   7.7s\n",
      "[CV] END .........gamma=0.5, learning_rate=0.35, max_depth=9; total time=   7.3s\n",
      "[CV] END .........gamma=0.5, learning_rate=0.35, max_depth=9; total time=   7.4s\n",
      "[CV] END .........gamma=0.5, learning_rate=0.35, max_depth=9; total time=   8.2s\n",
      "[CV] END .........gamma=0.5, learning_rate=0.35, max_depth=9; total time=   7.7s\n"
     ]
    },
    {
     "data": {
      "text/plain": [
       "RandomizedSearchCV(cv=5,\n",
       "                   estimator=XGBRegressor(base_score=None, booster=None,\n",
       "                                          callbacks=None,\n",
       "                                          colsample_bylevel=None,\n",
       "                                          colsample_bynode=None,\n",
       "                                          colsample_bytree=None,\n",
       "                                          early_stopping_rounds=None,\n",
       "                                          enable_categorical=False,\n",
       "                                          eval_metric=None, gamma=None,\n",
       "                                          gpu_id=None, grow_policy=None,\n",
       "                                          importance_type=None,\n",
       "                                          interaction_constraints=None,\n",
       "                                          learning_rate=None, max_bin=None,\n",
       "                                          m...\n",
       "                                          max_delta_step=None, max_depth=None,\n",
       "                                          max_leaves=None,\n",
       "                                          min_child_weight=None, missing=nan,\n",
       "                                          monotone_constraints=None,\n",
       "                                          n_estimators=100, n_jobs=None,\n",
       "                                          num_parallel_tree=None,\n",
       "                                          predictor=None, random_state=None,\n",
       "                                          reg_alpha=None, reg_lambda=None, ...),\n",
       "                   n_iter=100,\n",
       "                   param_distributions=[{'gamma': [0.1, 0.3, 0.4, 0.5],\n",
       "                                         'learning_rate': [0.1, 0.2, 0.3, 0.35],\n",
       "                                         'max_depth': [6, 8, 9]}],\n",
       "                   verbose=2)"
      ]
     },
     "execution_count": 35,
     "metadata": {},
     "output_type": "execute_result"
    }
   ],
   "source": [
    "rcv.fit(x_train_scaled, y_train)"
   ]
  },
  {
   "cell_type": "code",
   "execution_count": null,
   "metadata": {},
   "outputs": [
    {
     "data": {
      "text/plain": [
       "{'max_depth': 9, 'learning_rate': 0.2, 'gamma': 0.3}"
      ]
     },
     "execution_count": 142,
     "metadata": {},
     "output_type": "execute_result"
    }
   ],
   "source": [
    "rcv.best_params_"
   ]
  },
  {
   "cell_type": "code",
   "execution_count": null,
   "metadata": {},
   "outputs": [],
   "source": [
    "xgb_best_estimator = rcv.best_estimator_"
   ]
  },
  {
   "cell_type": "code",
   "execution_count": null,
   "metadata": {},
   "outputs": [],
   "source": [
    "y_pred_xgb = xgb_best_estimator.predict(x_test_scaled)"
   ]
  },
  {
   "cell_type": "code",
   "execution_count": null,
   "metadata": {},
   "outputs": [
    {
     "name": "stdout",
     "output_type": "stream",
     "text": [
      "XG Boost Regressor Tuned!\n",
      "R2 Score :  0.961895302866642\n",
      "Mean Absolute Error :  219.60258204936318\n"
     ]
    }
   ],
   "source": [
    "mae = mean_absolute_error(y_test, y_pred_xgb)\n",
    "r2 = r2_score(y_test, y_pred_xgb)\n",
    "print('XG Boost Regressor Tuned!')\n",
    "print('R2 Score : ', r2)\n",
    "print('Mean Absolute Error : ', mae)"
   ]
  },
  {
   "cell_type": "markdown",
   "metadata": {},
   "source": [
    "#### 2. Random Forest Regressor"
   ]
  },
  {
   "cell_type": "code",
   "execution_count": null,
   "metadata": {},
   "outputs": [],
   "source": [
    "grid_params2 = [{\n",
    "             'max_depth': [10,30,50,70,100],\n",
    "             'min_samples_leaf': [1, 2, 4],\n",
    "             'min_samples_split': [2, 5, 10]\n",
    "}]"
   ]
  },
  {
   "cell_type": "code",
   "execution_count": null,
   "metadata": {},
   "outputs": [],
   "source": [
    "rfr = RandomForestRegressor()"
   ]
  },
  {
   "cell_type": "code",
   "execution_count": null,
   "metadata": {},
   "outputs": [],
   "source": [
    "rcv1 = RandomizedSearchCV(estimator=rfr, param_distributions=grid_params2, cv= 5, n_iter=100, verbose=2)"
   ]
  },
  {
   "cell_type": "code",
   "execution_count": null,
   "metadata": {},
   "outputs": [
    {
     "name": "stderr",
     "output_type": "stream",
     "text": [
      "c:\\Users\\User\\AppData\\Local\\Programs\\Python\\Python37\\lib\\site-packages\\sklearn\\model_selection\\_search.py:289: UserWarning: The total space of parameters 45 is smaller than n_iter=100. Running 45 iterations. For exhaustive searches, use GridSearchCV.\n",
      "  % (grid_size, self.n_iter, grid_size), UserWarning)\n"
     ]
    },
    {
     "name": "stdout",
     "output_type": "stream",
     "text": [
      "Fitting 5 folds for each of 45 candidates, totalling 225 fits\n",
      "[CV] END max_depth=10, min_samples_leaf=1, min_samples_split=2; total time=   6.9s\n",
      "[CV] END max_depth=10, min_samples_leaf=1, min_samples_split=2; total time=   6.8s\n",
      "[CV] END max_depth=10, min_samples_leaf=1, min_samples_split=2; total time=   7.3s\n",
      "[CV] END max_depth=10, min_samples_leaf=1, min_samples_split=2; total time=   6.8s\n",
      "[CV] END max_depth=10, min_samples_leaf=1, min_samples_split=2; total time=   7.4s\n",
      "[CV] END max_depth=10, min_samples_leaf=1, min_samples_split=5; total time=   6.7s\n",
      "[CV] END max_depth=10, min_samples_leaf=1, min_samples_split=5; total time=   6.8s\n",
      "[CV] END max_depth=10, min_samples_leaf=1, min_samples_split=5; total time=   8.0s\n",
      "[CV] END max_depth=10, min_samples_leaf=1, min_samples_split=5; total time=   6.6s\n",
      "[CV] END max_depth=10, min_samples_leaf=1, min_samples_split=5; total time=   6.7s\n",
      "[CV] END max_depth=10, min_samples_leaf=1, min_samples_split=10; total time=   6.7s\n",
      "[CV] END max_depth=10, min_samples_leaf=1, min_samples_split=10; total time=   6.9s\n",
      "[CV] END max_depth=10, min_samples_leaf=1, min_samples_split=10; total time=   7.1s\n",
      "[CV] END max_depth=10, min_samples_leaf=1, min_samples_split=10; total time=   6.6s\n",
      "[CV] END max_depth=10, min_samples_leaf=1, min_samples_split=10; total time=   6.6s\n",
      "[CV] END max_depth=10, min_samples_leaf=2, min_samples_split=2; total time=   6.7s\n",
      "[CV] END max_depth=10, min_samples_leaf=2, min_samples_split=2; total time=   6.7s\n",
      "[CV] END max_depth=10, min_samples_leaf=2, min_samples_split=2; total time=   6.6s\n",
      "[CV] END max_depth=10, min_samples_leaf=2, min_samples_split=2; total time=   7.0s\n",
      "[CV] END max_depth=10, min_samples_leaf=2, min_samples_split=2; total time=   7.9s\n",
      "[CV] END max_depth=10, min_samples_leaf=2, min_samples_split=5; total time=   6.6s\n",
      "[CV] END max_depth=10, min_samples_leaf=2, min_samples_split=5; total time=   7.1s\n",
      "[CV] END max_depth=10, min_samples_leaf=2, min_samples_split=5; total time=   6.5s\n",
      "[CV] END max_depth=10, min_samples_leaf=2, min_samples_split=5; total time=   6.8s\n",
      "[CV] END max_depth=10, min_samples_leaf=2, min_samples_split=5; total time=   6.6s\n",
      "[CV] END max_depth=10, min_samples_leaf=2, min_samples_split=10; total time=   6.6s\n",
      "[CV] END max_depth=10, min_samples_leaf=2, min_samples_split=10; total time=   6.5s\n",
      "[CV] END max_depth=10, min_samples_leaf=2, min_samples_split=10; total time=   6.5s\n",
      "[CV] END max_depth=10, min_samples_leaf=2, min_samples_split=10; total time=   6.5s\n",
      "[CV] END max_depth=10, min_samples_leaf=2, min_samples_split=10; total time=   6.5s\n",
      "[CV] END max_depth=10, min_samples_leaf=4, min_samples_split=2; total time=   6.6s\n",
      "[CV] END max_depth=10, min_samples_leaf=4, min_samples_split=2; total time=   7.8s\n",
      "[CV] END max_depth=10, min_samples_leaf=4, min_samples_split=2; total time=   6.7s\n",
      "[CV] END max_depth=10, min_samples_leaf=4, min_samples_split=2; total time=   6.6s\n",
      "[CV] END max_depth=10, min_samples_leaf=4, min_samples_split=2; total time=   6.5s\n",
      "[CV] END max_depth=10, min_samples_leaf=4, min_samples_split=5; total time=   6.5s\n",
      "[CV] END max_depth=10, min_samples_leaf=4, min_samples_split=5; total time=   6.5s\n",
      "[CV] END max_depth=10, min_samples_leaf=4, min_samples_split=5; total time=   6.5s\n",
      "[CV] END max_depth=10, min_samples_leaf=4, min_samples_split=5; total time=   6.5s\n",
      "[CV] END max_depth=10, min_samples_leaf=4, min_samples_split=5; total time=   6.5s\n",
      "[CV] END max_depth=10, min_samples_leaf=4, min_samples_split=10; total time=   8.7s\n",
      "[CV] END max_depth=10, min_samples_leaf=4, min_samples_split=10; total time=   7.2s\n",
      "[CV] END max_depth=10, min_samples_leaf=4, min_samples_split=10; total time=   6.5s\n",
      "[CV] END max_depth=10, min_samples_leaf=4, min_samples_split=10; total time=   6.5s\n",
      "[CV] END max_depth=10, min_samples_leaf=4, min_samples_split=10; total time=   6.5s\n",
      "[CV] END max_depth=30, min_samples_leaf=1, min_samples_split=2; total time=  12.1s\n",
      "[CV] END max_depth=30, min_samples_leaf=1, min_samples_split=2; total time=  12.2s\n",
      "[CV] END max_depth=30, min_samples_leaf=1, min_samples_split=2; total time=  12.4s\n",
      "[CV] END max_depth=30, min_samples_leaf=1, min_samples_split=2; total time=  12.8s\n",
      "[CV] END max_depth=30, min_samples_leaf=1, min_samples_split=2; total time=  12.1s\n",
      "[CV] END max_depth=30, min_samples_leaf=1, min_samples_split=5; total time=  10.6s\n",
      "[CV] END max_depth=30, min_samples_leaf=1, min_samples_split=5; total time=  10.6s\n",
      "[CV] END max_depth=30, min_samples_leaf=1, min_samples_split=5; total time=  10.5s\n",
      "[CV] END max_depth=30, min_samples_leaf=1, min_samples_split=5; total time=  11.0s\n",
      "[CV] END max_depth=30, min_samples_leaf=1, min_samples_split=5; total time=  10.5s\n",
      "[CV] END max_depth=30, min_samples_leaf=1, min_samples_split=10; total time=   9.7s\n",
      "[CV] END max_depth=30, min_samples_leaf=1, min_samples_split=10; total time=   9.5s\n",
      "[CV] END max_depth=30, min_samples_leaf=1, min_samples_split=10; total time=   9.6s\n",
      "[CV] END max_depth=30, min_samples_leaf=1, min_samples_split=10; total time=   9.4s\n",
      "[CV] END max_depth=30, min_samples_leaf=1, min_samples_split=10; total time=   9.4s\n",
      "[CV] END max_depth=30, min_samples_leaf=2, min_samples_split=2; total time=  11.1s\n",
      "[CV] END max_depth=30, min_samples_leaf=2, min_samples_split=2; total time=  10.3s\n",
      "[CV] END max_depth=30, min_samples_leaf=2, min_samples_split=2; total time=  10.4s\n",
      "[CV] END max_depth=30, min_samples_leaf=2, min_samples_split=2; total time=  10.5s\n",
      "[CV] END max_depth=30, min_samples_leaf=2, min_samples_split=2; total time=  10.3s\n",
      "[CV] END max_depth=30, min_samples_leaf=2, min_samples_split=5; total time=  10.2s\n",
      "[CV] END max_depth=30, min_samples_leaf=2, min_samples_split=5; total time=  10.6s\n",
      "[CV] END max_depth=30, min_samples_leaf=2, min_samples_split=5; total time=  10.0s\n",
      "[CV] END max_depth=30, min_samples_leaf=2, min_samples_split=5; total time=  10.0s\n",
      "[CV] END max_depth=30, min_samples_leaf=2, min_samples_split=5; total time=  10.1s\n",
      "[CV] END max_depth=30, min_samples_leaf=2, min_samples_split=10; total time=   9.3s\n",
      "[CV] END max_depth=30, min_samples_leaf=2, min_samples_split=10; total time=   9.1s\n",
      "[CV] END max_depth=30, min_samples_leaf=2, min_samples_split=10; total time=   9.1s\n",
      "[CV] END max_depth=30, min_samples_leaf=2, min_samples_split=10; total time=   9.8s\n",
      "[CV] END max_depth=30, min_samples_leaf=2, min_samples_split=10; total time=   9.1s\n",
      "[CV] END max_depth=30, min_samples_leaf=4, min_samples_split=2; total time=   9.1s\n",
      "[CV] END max_depth=30, min_samples_leaf=4, min_samples_split=2; total time=   9.1s\n",
      "[CV] END max_depth=30, min_samples_leaf=4, min_samples_split=2; total time=   9.0s\n",
      "[CV] END max_depth=30, min_samples_leaf=4, min_samples_split=2; total time=   9.2s\n",
      "[CV] END max_depth=30, min_samples_leaf=4, min_samples_split=2; total time=   9.1s\n",
      "[CV] END max_depth=30, min_samples_leaf=4, min_samples_split=5; total time=   9.4s\n",
      "[CV] END max_depth=30, min_samples_leaf=4, min_samples_split=5; total time=   9.2s\n",
      "[CV] END max_depth=30, min_samples_leaf=4, min_samples_split=5; total time=   9.0s\n",
      "[CV] END max_depth=30, min_samples_leaf=4, min_samples_split=5; total time=   9.0s\n",
      "[CV] END max_depth=30, min_samples_leaf=4, min_samples_split=5; total time=   9.0s\n",
      "[CV] END max_depth=30, min_samples_leaf=4, min_samples_split=10; total time=   8.8s\n",
      "[CV] END max_depth=30, min_samples_leaf=4, min_samples_split=10; total time=   8.8s\n",
      "[CV] END max_depth=30, min_samples_leaf=4, min_samples_split=10; total time=   9.6s\n",
      "[CV] END max_depth=30, min_samples_leaf=4, min_samples_split=10; total time=   8.8s\n",
      "[CV] END max_depth=30, min_samples_leaf=4, min_samples_split=10; total time=   8.5s\n",
      "[CV] END max_depth=50, min_samples_leaf=1, min_samples_split=2; total time=  11.7s\n",
      "[CV] END max_depth=50, min_samples_leaf=1, min_samples_split=2; total time=  11.7s\n",
      "[CV] END max_depth=50, min_samples_leaf=1, min_samples_split=2; total time=  12.0s\n",
      "[CV] END max_depth=50, min_samples_leaf=1, min_samples_split=2; total time=  12.4s\n",
      "[CV] END max_depth=50, min_samples_leaf=1, min_samples_split=2; total time=  12.0s\n",
      "[CV] END max_depth=50, min_samples_leaf=1, min_samples_split=5; total time=  10.1s\n",
      "[CV] END max_depth=50, min_samples_leaf=1, min_samples_split=5; total time=  10.0s\n",
      "[CV] END max_depth=50, min_samples_leaf=1, min_samples_split=5; total time=  10.3s\n",
      "[CV] END max_depth=50, min_samples_leaf=1, min_samples_split=5; total time=  10.1s\n",
      "[CV] END max_depth=50, min_samples_leaf=1, min_samples_split=5; total time=  10.4s\n",
      "[CV] END max_depth=50, min_samples_leaf=1, min_samples_split=10; total time=   9.1s\n",
      "[CV] END max_depth=50, min_samples_leaf=1, min_samples_split=10; total time=   9.1s\n",
      "[CV] END max_depth=50, min_samples_leaf=1, min_samples_split=10; total time=   9.1s\n",
      "[CV] END max_depth=50, min_samples_leaf=1, min_samples_split=10; total time=   9.0s\n",
      "[CV] END max_depth=50, min_samples_leaf=1, min_samples_split=10; total time=   9.0s\n",
      "[CV] END max_depth=50, min_samples_leaf=2, min_samples_split=2; total time=   9.9s\n",
      "[CV] END max_depth=50, min_samples_leaf=2, min_samples_split=2; total time=  10.5s\n",
      "[CV] END max_depth=50, min_samples_leaf=2, min_samples_split=2; total time=  10.1s\n",
      "[CV] END max_depth=50, min_samples_leaf=2, min_samples_split=2; total time=  10.1s\n",
      "[CV] END max_depth=50, min_samples_leaf=2, min_samples_split=2; total time=   9.9s\n",
      "[CV] END max_depth=50, min_samples_leaf=2, min_samples_split=5; total time=   9.7s\n",
      "[CV] END max_depth=50, min_samples_leaf=2, min_samples_split=5; total time=   9.6s\n",
      "[CV] END max_depth=50, min_samples_leaf=2, min_samples_split=5; total time=   9.9s\n",
      "[CV] END max_depth=50, min_samples_leaf=2, min_samples_split=5; total time=  10.1s\n",
      "[CV] END max_depth=50, min_samples_leaf=2, min_samples_split=5; total time=   9.7s\n",
      "[CV] END max_depth=50, min_samples_leaf=2, min_samples_split=10; total time=   8.8s\n",
      "[CV] END max_depth=50, min_samples_leaf=2, min_samples_split=10; total time=   8.8s\n",
      "[CV] END max_depth=50, min_samples_leaf=2, min_samples_split=10; total time=   8.8s\n",
      "[CV] END max_depth=50, min_samples_leaf=2, min_samples_split=10; total time=   8.8s\n",
      "[CV] END max_depth=50, min_samples_leaf=2, min_samples_split=10; total time=   8.8s\n",
      "[CV] END max_depth=50, min_samples_leaf=4, min_samples_split=2; total time=   9.2s\n",
      "[CV] END max_depth=50, min_samples_leaf=4, min_samples_split=2; total time=   8.6s\n",
      "[CV] END max_depth=50, min_samples_leaf=4, min_samples_split=2; total time=   8.6s\n",
      "[CV] END max_depth=50, min_samples_leaf=4, min_samples_split=2; total time=   8.8s\n",
      "[CV] END max_depth=50, min_samples_leaf=4, min_samples_split=2; total time=   8.6s\n",
      "[CV] END max_depth=50, min_samples_leaf=4, min_samples_split=5; total time=   9.0s\n",
      "[CV] END max_depth=50, min_samples_leaf=4, min_samples_split=5; total time=   8.6s\n",
      "[CV] END max_depth=50, min_samples_leaf=4, min_samples_split=5; total time=   9.0s\n",
      "[CV] END max_depth=50, min_samples_leaf=4, min_samples_split=5; total time=   9.0s\n",
      "[CV] END max_depth=50, min_samples_leaf=4, min_samples_split=5; total time=   8.8s\n",
      "[CV] END max_depth=50, min_samples_leaf=4, min_samples_split=10; total time=   8.5s\n",
      "[CV] END max_depth=50, min_samples_leaf=4, min_samples_split=10; total time=   8.5s\n",
      "[CV] END max_depth=50, min_samples_leaf=4, min_samples_split=10; total time=   8.5s\n",
      "[CV] END max_depth=50, min_samples_leaf=4, min_samples_split=10; total time=   8.4s\n",
      "[CV] END max_depth=50, min_samples_leaf=4, min_samples_split=10; total time=   8.4s\n",
      "[CV] END max_depth=70, min_samples_leaf=1, min_samples_split=2; total time=  12.3s\n",
      "[CV] END max_depth=70, min_samples_leaf=1, min_samples_split=2; total time=  11.7s\n",
      "[CV] END max_depth=70, min_samples_leaf=1, min_samples_split=2; total time=  11.7s\n",
      "[CV] END max_depth=70, min_samples_leaf=1, min_samples_split=2; total time=  11.6s\n",
      "[CV] END max_depth=70, min_samples_leaf=1, min_samples_split=2; total time=  11.9s\n",
      "[CV] END max_depth=70, min_samples_leaf=1, min_samples_split=5; total time=  10.6s\n",
      "[CV] END max_depth=70, min_samples_leaf=1, min_samples_split=5; total time=  10.5s\n",
      "[CV] END max_depth=70, min_samples_leaf=1, min_samples_split=5; total time=  10.1s\n",
      "[CV] END max_depth=70, min_samples_leaf=1, min_samples_split=5; total time=  10.1s\n",
      "[CV] END max_depth=70, min_samples_leaf=1, min_samples_split=5; total time=  10.2s\n",
      "[CV] END max_depth=70, min_samples_leaf=1, min_samples_split=10; total time=   9.1s\n",
      "[CV] END max_depth=70, min_samples_leaf=1, min_samples_split=10; total time=   9.0s\n",
      "[CV] END max_depth=70, min_samples_leaf=1, min_samples_split=10; total time=   9.6s\n",
      "[CV] END max_depth=70, min_samples_leaf=1, min_samples_split=10; total time=   9.0s\n",
      "[CV] END max_depth=70, min_samples_leaf=1, min_samples_split=10; total time=   9.1s\n",
      "[CV] END max_depth=70, min_samples_leaf=2, min_samples_split=2; total time=  10.1s\n",
      "[CV] END max_depth=70, min_samples_leaf=2, min_samples_split=2; total time=   9.9s\n",
      "[CV] END max_depth=70, min_samples_leaf=2, min_samples_split=2; total time=  10.0s\n",
      "[CV] END max_depth=70, min_samples_leaf=2, min_samples_split=2; total time=  10.0s\n",
      "[CV] END max_depth=70, min_samples_leaf=2, min_samples_split=2; total time=  10.5s\n",
      "[CV] END max_depth=70, min_samples_leaf=2, min_samples_split=5; total time=  10.4s\n",
      "[CV] END max_depth=70, min_samples_leaf=2, min_samples_split=5; total time=   9.7s\n",
      "[CV] END max_depth=70, min_samples_leaf=2, min_samples_split=5; total time=   9.7s\n",
      "[CV] END max_depth=70, min_samples_leaf=2, min_samples_split=5; total time=   9.6s\n",
      "[CV] END max_depth=70, min_samples_leaf=2, min_samples_split=5; total time=   9.7s\n",
      "[CV] END max_depth=70, min_samples_leaf=2, min_samples_split=10; total time=   9.4s\n",
      "[CV] END max_depth=70, min_samples_leaf=2, min_samples_split=10; total time=   9.0s\n",
      "[CV] END max_depth=70, min_samples_leaf=2, min_samples_split=10; total time=   8.9s\n",
      "[CV] END max_depth=70, min_samples_leaf=2, min_samples_split=10; total time=   8.8s\n",
      "[CV] END max_depth=70, min_samples_leaf=2, min_samples_split=10; total time=   8.8s\n",
      "[CV] END max_depth=70, min_samples_leaf=4, min_samples_split=2; total time=   8.9s\n",
      "[CV] END max_depth=70, min_samples_leaf=4, min_samples_split=2; total time=   8.8s\n",
      "[CV] END max_depth=70, min_samples_leaf=4, min_samples_split=2; total time=   8.7s\n",
      "[CV] END max_depth=70, min_samples_leaf=4, min_samples_split=2; total time=   9.2s\n",
      "[CV] END max_depth=70, min_samples_leaf=4, min_samples_split=2; total time=   8.7s\n",
      "[CV] END max_depth=70, min_samples_leaf=4, min_samples_split=5; total time=   8.7s\n",
      "[CV] END max_depth=70, min_samples_leaf=4, min_samples_split=5; total time=   8.6s\n",
      "[CV] END max_depth=70, min_samples_leaf=4, min_samples_split=5; total time=   9.1s\n",
      "[CV] END max_depth=70, min_samples_leaf=4, min_samples_split=5; total time=   8.5s\n",
      "[CV] END max_depth=70, min_samples_leaf=4, min_samples_split=5; total time=   8.7s\n",
      "[CV] END max_depth=70, min_samples_leaf=4, min_samples_split=10; total time=   9.0s\n",
      "[CV] END max_depth=70, min_samples_leaf=4, min_samples_split=10; total time=   8.4s\n",
      "[CV] END max_depth=70, min_samples_leaf=4, min_samples_split=10; total time=   8.5s\n",
      "[CV] END max_depth=70, min_samples_leaf=4, min_samples_split=10; total time=   8.7s\n",
      "[CV] END max_depth=70, min_samples_leaf=4, min_samples_split=10; total time=  10.6s\n",
      "[CV] END max_depth=100, min_samples_leaf=1, min_samples_split=2; total time=  12.2s\n",
      "[CV] END max_depth=100, min_samples_leaf=1, min_samples_split=2; total time=  12.6s\n",
      "[CV] END max_depth=100, min_samples_leaf=1, min_samples_split=2; total time=  12.5s\n",
      "[CV] END max_depth=100, min_samples_leaf=1, min_samples_split=2; total time=  12.1s\n",
      "[CV] END max_depth=100, min_samples_leaf=1, min_samples_split=2; total time=  12.3s\n",
      "[CV] END max_depth=100, min_samples_leaf=1, min_samples_split=5; total time=  10.7s\n",
      "[CV] END max_depth=100, min_samples_leaf=1, min_samples_split=5; total time=  11.0s\n",
      "[CV] END max_depth=100, min_samples_leaf=1, min_samples_split=5; total time=  12.2s\n",
      "[CV] END max_depth=100, min_samples_leaf=1, min_samples_split=5; total time=  10.6s\n",
      "[CV] END max_depth=100, min_samples_leaf=1, min_samples_split=5; total time=  10.6s\n",
      "[CV] END max_depth=100, min_samples_leaf=1, min_samples_split=10; total time=   9.5s\n",
      "[CV] END max_depth=100, min_samples_leaf=1, min_samples_split=10; total time=   9.5s\n",
      "[CV] END max_depth=100, min_samples_leaf=1, min_samples_split=10; total time=   9.4s\n",
      "[CV] END max_depth=100, min_samples_leaf=1, min_samples_split=10; total time=   9.7s\n",
      "[CV] END max_depth=100, min_samples_leaf=1, min_samples_split=10; total time=   9.7s\n",
      "[CV] END max_depth=100, min_samples_leaf=2, min_samples_split=2; total time=  10.4s\n",
      "[CV] END max_depth=100, min_samples_leaf=2, min_samples_split=2; total time=  10.3s\n",
      "[CV] END max_depth=100, min_samples_leaf=2, min_samples_split=2; total time=  10.5s\n",
      "[CV] END max_depth=100, min_samples_leaf=2, min_samples_split=2; total time=  10.2s\n",
      "[CV] END max_depth=100, min_samples_leaf=2, min_samples_split=2; total time=  10.3s\n",
      "[CV] END max_depth=100, min_samples_leaf=2, min_samples_split=5; total time=  10.7s\n",
      "[CV] END max_depth=100, min_samples_leaf=2, min_samples_split=5; total time=  10.4s\n",
      "[CV] END max_depth=100, min_samples_leaf=2, min_samples_split=5; total time=  10.2s\n",
      "[CV] END max_depth=100, min_samples_leaf=2, min_samples_split=5; total time=  10.0s\n",
      "[CV] END max_depth=100, min_samples_leaf=2, min_samples_split=5; total time=  10.0s\n",
      "[CV] END max_depth=100, min_samples_leaf=2, min_samples_split=10; total time=   9.1s\n",
      "[CV] END max_depth=100, min_samples_leaf=2, min_samples_split=10; total time=   9.5s\n",
      "[CV] END max_depth=100, min_samples_leaf=2, min_samples_split=10; total time=   9.4s\n",
      "[CV] END max_depth=100, min_samples_leaf=2, min_samples_split=10; total time=   9.2s\n",
      "[CV] END max_depth=100, min_samples_leaf=2, min_samples_split=10; total time=   9.1s\n",
      "[CV] END max_depth=100, min_samples_leaf=4, min_samples_split=2; total time=   9.2s\n",
      "[CV] END max_depth=100, min_samples_leaf=4, min_samples_split=2; total time=   9.0s\n",
      "[CV] END max_depth=100, min_samples_leaf=4, min_samples_split=2; total time=   9.0s\n",
      "[CV] END max_depth=100, min_samples_leaf=4, min_samples_split=2; total time=   9.5s\n",
      "[CV] END max_depth=100, min_samples_leaf=4, min_samples_split=2; total time=   9.2s\n",
      "[CV] END max_depth=100, min_samples_leaf=4, min_samples_split=5; total time=   9.0s\n",
      "[CV] END max_depth=100, min_samples_leaf=4, min_samples_split=5; total time=   9.2s\n",
      "[CV] END max_depth=100, min_samples_leaf=4, min_samples_split=5; total time=   9.0s\n",
      "[CV] END max_depth=100, min_samples_leaf=4, min_samples_split=5; total time=   9.0s\n",
      "[CV] END max_depth=100, min_samples_leaf=4, min_samples_split=5; total time=   9.2s\n",
      "[CV] END max_depth=100, min_samples_leaf=4, min_samples_split=10; total time=   9.0s\n",
      "[CV] END max_depth=100, min_samples_leaf=4, min_samples_split=10; total time=   9.1s\n",
      "[CV] END max_depth=100, min_samples_leaf=4, min_samples_split=10; total time=   8.8s\n",
      "[CV] END max_depth=100, min_samples_leaf=4, min_samples_split=10; total time=   8.8s\n",
      "[CV] END max_depth=100, min_samples_leaf=4, min_samples_split=10; total time=   9.0s\n"
     ]
    },
    {
     "data": {
      "text/plain": [
       "RandomizedSearchCV(cv=5, estimator=RandomForestRegressor(), n_iter=100,\n",
       "                   param_distributions=[{'max_depth': [10, 30, 50, 70, 100],\n",
       "                                         'min_samples_leaf': [1, 2, 4],\n",
       "                                         'min_samples_split': [2, 5, 10]}],\n",
       "                   verbose=2)"
      ]
     },
     "execution_count": 160,
     "metadata": {},
     "output_type": "execute_result"
    }
   ],
   "source": [
    "rcv1.fit(x_train_scaled,y_train)"
   ]
  },
  {
   "cell_type": "code",
   "execution_count": null,
   "metadata": {},
   "outputs": [
    {
     "data": {
      "text/plain": [
       "{'min_samples_split': 2, 'min_samples_leaf': 2, 'max_depth': 50}"
      ]
     },
     "execution_count": 161,
     "metadata": {},
     "output_type": "execute_result"
    }
   ],
   "source": [
    "rcv1.best_params_"
   ]
  },
  {
   "cell_type": "code",
   "execution_count": null,
   "metadata": {},
   "outputs": [],
   "source": [
    "rfr_best_estimator = rcv1.best_estimator_"
   ]
  },
  {
   "cell_type": "code",
   "execution_count": null,
   "metadata": {},
   "outputs": [],
   "source": [
    "y_pred_rfr = rfr_best_estimator.predict(x_test_scaled)"
   ]
  },
  {
   "cell_type": "code",
   "execution_count": null,
   "metadata": {},
   "outputs": [
    {
     "name": "stdout",
     "output_type": "stream",
     "text": [
      "Random Forest Regressor Tuned!\n",
      "R2 Score :  0.9530012824347245\n",
      "Mean Absolute Error :  234.74038918381297\n"
     ]
    }
   ],
   "source": [
    "mae = mean_absolute_error(y_test, y_pred_rfr)\n",
    "r2 = r2_score(y_test, y_pred_rfr)\n",
    "print('Random Forest Regressor Tuned!')\n",
    "print('R2 Score : ', r2)\n",
    "print('Mean Absolute Error : ', mae)"
   ]
  },
  {
   "cell_type": "markdown",
   "metadata": {},
   "source": [
    "- Results of Random Forest Regressor\n",
    "  - R2 Score - 0.95300\n",
    "  - Mean Absolute Error - 234.74038\n",
    "\n",
    "- Results of XG Boost Regressor\n",
    "  - R2 Score - 0.96189\n",
    "  - Mean Absolute Error - 219.60258"
   ]
  },
  {
   "cell_type": "markdown",
   "metadata": {},
   "source": [
    "##### **As we see XB Boost Algorithm has outperformed every other algorithms, so we will dump this model for prediction.**"
   ]
  },
  {
   "cell_type": "markdown",
   "metadata": {},
   "source": [
    "# <center>**Saving the Model**</center>"
   ]
  },
  {
   "cell_type": "code",
   "execution_count": null,
   "metadata": {},
   "outputs": [],
   "source": [
    "import pickle"
   ]
  },
  {
   "cell_type": "code",
   "execution_count": null,
   "metadata": {},
   "outputs": [],
   "source": [
    "pickle.dump(xgb_best_estimator, open('best_model.pkl', 'wb'))"
   ]
  },
  {
   "cell_type": "code",
   "execution_count": null,
   "metadata": {},
   "outputs": [],
   "source": [
    "best_model = pickle.load(open('best_model.pkl', 'rb'))"
   ]
  },
  {
   "cell_type": "code",
   "execution_count": null,
   "metadata": {},
   "outputs": [
    {
     "data": {
      "text/plain": [
       "array([1072.5189 , 1386.5486 ,  998.05225, ..., 1347.6932 , 1347.6932 ,\n",
       "       1172.7191 ], dtype=float32)"
      ]
     },
     "execution_count": 171,
     "metadata": {},
     "output_type": "execute_result"
    }
   ],
   "source": [
    "best_model.predict(x_test)"
   ]
  }
 ],
 "metadata": {
  "kernelspec": {
   "display_name": "Python 3",
   "language": "python",
   "name": "python3"
  },
  "language_info": {
   "codemirror_mode": {
    "name": "ipython",
    "version": 3
   },
   "file_extension": ".py",
   "mimetype": "text/x-python",
   "name": "python",
   "nbconvert_exporter": "python",
   "pygments_lexer": "ipython3",
   "version": "3.7.15 (default, Nov 24 2022, 18:44:54) [MSC v.1916 64 bit (AMD64)]"
  },
  "orig_nbformat": 4,
  "vscode": {
   "interpreter": {
    "hash": "12f89cdddae61811ed5dea9bc9992a8956009d43a9e96ed4670b1240651f5b94"
   }
  }
 },
 "nbformat": 4,
 "nbformat_minor": 2
}
