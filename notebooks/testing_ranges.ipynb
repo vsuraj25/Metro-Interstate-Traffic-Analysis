{
 "cells": [
  {
   "cell_type": "code",
   "execution_count": 2,
   "metadata": {},
   "outputs": [],
   "source": [
    "import pandas as pd"
   ]
  },
  {
   "cell_type": "code",
   "execution_count": 6,
   "metadata": {},
   "outputs": [],
   "source": [
    "data = pd.read_csv('../data/prepared/model_traffic_data.csv')"
   ]
  },
  {
   "cell_type": "code",
   "execution_count": 7,
   "metadata": {},
   "outputs": [
    {
     "data": {
      "text/html": [
       "<div>\n",
       "<style scoped>\n",
       "    .dataframe tbody tr th:only-of-type {\n",
       "        vertical-align: middle;\n",
       "    }\n",
       "\n",
       "    .dataframe tbody tr th {\n",
       "        vertical-align: top;\n",
       "    }\n",
       "\n",
       "    .dataframe thead th {\n",
       "        text-align: right;\n",
       "    }\n",
       "</style>\n",
       "<table border=\"1\" class=\"dataframe\">\n",
       "  <thead>\n",
       "    <tr style=\"text-align: right;\">\n",
       "      <th></th>\n",
       "      <th>holiday</th>\n",
       "      <th>temp</th>\n",
       "      <th>clouds_all</th>\n",
       "      <th>weather_main</th>\n",
       "      <th>traffic_volume</th>\n",
       "      <th>month</th>\n",
       "      <th>weekday</th>\n",
       "      <th>hour</th>\n",
       "    </tr>\n",
       "  </thead>\n",
       "  <tbody>\n",
       "    <tr>\n",
       "      <th>0</th>\n",
       "      <td>0</td>\n",
       "      <td>288.28</td>\n",
       "      <td>40</td>\n",
       "      <td>1</td>\n",
       "      <td>5545</td>\n",
       "      <td>10</td>\n",
       "      <td>1</td>\n",
       "      <td>9</td>\n",
       "    </tr>\n",
       "    <tr>\n",
       "      <th>1</th>\n",
       "      <td>0</td>\n",
       "      <td>289.36</td>\n",
       "      <td>75</td>\n",
       "      <td>1</td>\n",
       "      <td>4516</td>\n",
       "      <td>10</td>\n",
       "      <td>1</td>\n",
       "      <td>10</td>\n",
       "    </tr>\n",
       "    <tr>\n",
       "      <th>2</th>\n",
       "      <td>0</td>\n",
       "      <td>289.58</td>\n",
       "      <td>90</td>\n",
       "      <td>1</td>\n",
       "      <td>4767</td>\n",
       "      <td>10</td>\n",
       "      <td>1</td>\n",
       "      <td>11</td>\n",
       "    </tr>\n",
       "    <tr>\n",
       "      <th>3</th>\n",
       "      <td>0</td>\n",
       "      <td>290.13</td>\n",
       "      <td>90</td>\n",
       "      <td>1</td>\n",
       "      <td>5026</td>\n",
       "      <td>10</td>\n",
       "      <td>1</td>\n",
       "      <td>12</td>\n",
       "    </tr>\n",
       "    <tr>\n",
       "      <th>4</th>\n",
       "      <td>0</td>\n",
       "      <td>291.14</td>\n",
       "      <td>75</td>\n",
       "      <td>1</td>\n",
       "      <td>4918</td>\n",
       "      <td>10</td>\n",
       "      <td>1</td>\n",
       "      <td>13</td>\n",
       "    </tr>\n",
       "  </tbody>\n",
       "</table>\n",
       "</div>"
      ],
      "text/plain": [
       "   holiday    temp  clouds_all  weather_main  traffic_volume  month  weekday  \\\n",
       "0        0  288.28          40             1            5545     10        1   \n",
       "1        0  289.36          75             1            4516     10        1   \n",
       "2        0  289.58          90             1            4767     10        1   \n",
       "3        0  290.13          90             1            5026     10        1   \n",
       "4        0  291.14          75             1            4918     10        1   \n",
       "\n",
       "   hour  \n",
       "0     9  \n",
       "1    10  \n",
       "2    11  \n",
       "3    12  \n",
       "4    13  "
      ]
     },
     "execution_count": 7,
     "metadata": {},
     "output_type": "execute_result"
    }
   ],
   "source": [
    "data.head()"
   ]
  },
  {
   "cell_type": "code",
   "execution_count": 8,
   "metadata": {},
   "outputs": [],
   "source": [
    "overview = data.describe()"
   ]
  },
  {
   "cell_type": "code",
   "execution_count": 9,
   "metadata": {},
   "outputs": [
    {
     "data": {
      "text/html": [
       "<div>\n",
       "<style scoped>\n",
       "    .dataframe tbody tr th:only-of-type {\n",
       "        vertical-align: middle;\n",
       "    }\n",
       "\n",
       "    .dataframe tbody tr th {\n",
       "        vertical-align: top;\n",
       "    }\n",
       "\n",
       "    .dataframe thead th {\n",
       "        text-align: right;\n",
       "    }\n",
       "</style>\n",
       "<table border=\"1\" class=\"dataframe\">\n",
       "  <thead>\n",
       "    <tr style=\"text-align: right;\">\n",
       "      <th></th>\n",
       "      <th>holiday</th>\n",
       "      <th>temp</th>\n",
       "      <th>clouds_all</th>\n",
       "      <th>weather_main</th>\n",
       "      <th>traffic_volume</th>\n",
       "      <th>month</th>\n",
       "      <th>weekday</th>\n",
       "      <th>hour</th>\n",
       "    </tr>\n",
       "  </thead>\n",
       "  <tbody>\n",
       "    <tr>\n",
       "      <th>count</th>\n",
       "      <td>47960.000000</td>\n",
       "      <td>47960.000000</td>\n",
       "      <td>47960.000000</td>\n",
       "      <td>47960.000000</td>\n",
       "      <td>47960.000000</td>\n",
       "      <td>47960.000000</td>\n",
       "      <td>47960.000000</td>\n",
       "      <td>47960.000000</td>\n",
       "    </tr>\n",
       "    <tr>\n",
       "      <th>mean</th>\n",
       "      <td>0.001272</td>\n",
       "      <td>281.275357</td>\n",
       "      <td>49.196747</td>\n",
       "      <td>2.561155</td>\n",
       "      <td>3260.909279</td>\n",
       "      <td>6.508945</td>\n",
       "      <td>2.983090</td>\n",
       "      <td>11.398561</td>\n",
       "    </tr>\n",
       "    <tr>\n",
       "      <th>std</th>\n",
       "      <td>0.035641</td>\n",
       "      <td>12.726827</td>\n",
       "      <td>39.004742</td>\n",
       "      <td>2.773694</td>\n",
       "      <td>1986.802787</td>\n",
       "      <td>3.399798</td>\n",
       "      <td>2.005306</td>\n",
       "      <td>6.940415</td>\n",
       "    </tr>\n",
       "    <tr>\n",
       "      <th>min</th>\n",
       "      <td>0.000000</td>\n",
       "      <td>243.390000</td>\n",
       "      <td>0.000000</td>\n",
       "      <td>0.000000</td>\n",
       "      <td>0.000000</td>\n",
       "      <td>1.000000</td>\n",
       "      <td>0.000000</td>\n",
       "      <td>0.000000</td>\n",
       "    </tr>\n",
       "    <tr>\n",
       "      <th>25%</th>\n",
       "      <td>0.000000</td>\n",
       "      <td>272.150000</td>\n",
       "      <td>1.000000</td>\n",
       "      <td>0.000000</td>\n",
       "      <td>1195.000000</td>\n",
       "      <td>4.000000</td>\n",
       "      <td>1.000000</td>\n",
       "      <td>5.000000</td>\n",
       "    </tr>\n",
       "    <tr>\n",
       "      <th>50%</th>\n",
       "      <td>0.000000</td>\n",
       "      <td>282.500000</td>\n",
       "      <td>64.000000</td>\n",
       "      <td>1.000000</td>\n",
       "      <td>3380.500000</td>\n",
       "      <td>7.000000</td>\n",
       "      <td>3.000000</td>\n",
       "      <td>11.000000</td>\n",
       "    </tr>\n",
       "    <tr>\n",
       "      <th>75%</th>\n",
       "      <td>0.000000</td>\n",
       "      <td>291.840000</td>\n",
       "      <td>90.000000</td>\n",
       "      <td>5.000000</td>\n",
       "      <td>4933.250000</td>\n",
       "      <td>9.000000</td>\n",
       "      <td>5.000000</td>\n",
       "      <td>17.000000</td>\n",
       "    </tr>\n",
       "    <tr>\n",
       "      <th>max</th>\n",
       "      <td>1.000000</td>\n",
       "      <td>310.070000</td>\n",
       "      <td>100.000000</td>\n",
       "      <td>10.000000</td>\n",
       "      <td>7280.000000</td>\n",
       "      <td>12.000000</td>\n",
       "      <td>6.000000</td>\n",
       "      <td>23.000000</td>\n",
       "    </tr>\n",
       "  </tbody>\n",
       "</table>\n",
       "</div>"
      ],
      "text/plain": [
       "            holiday          temp    clouds_all  weather_main  traffic_volume  \\\n",
       "count  47960.000000  47960.000000  47960.000000  47960.000000    47960.000000   \n",
       "mean       0.001272    281.275357     49.196747      2.561155     3260.909279   \n",
       "std        0.035641     12.726827     39.004742      2.773694     1986.802787   \n",
       "min        0.000000    243.390000      0.000000      0.000000        0.000000   \n",
       "25%        0.000000    272.150000      1.000000      0.000000     1195.000000   \n",
       "50%        0.000000    282.500000     64.000000      1.000000     3380.500000   \n",
       "75%        0.000000    291.840000     90.000000      5.000000     4933.250000   \n",
       "max        1.000000    310.070000    100.000000     10.000000     7280.000000   \n",
       "\n",
       "              month       weekday          hour  \n",
       "count  47960.000000  47960.000000  47960.000000  \n",
       "mean       6.508945      2.983090     11.398561  \n",
       "std        3.399798      2.005306      6.940415  \n",
       "min        1.000000      0.000000      0.000000  \n",
       "25%        4.000000      1.000000      5.000000  \n",
       "50%        7.000000      3.000000     11.000000  \n",
       "75%        9.000000      5.000000     17.000000  \n",
       "max       12.000000      6.000000     23.000000  "
      ]
     },
     "execution_count": 9,
     "metadata": {},
     "output_type": "execute_result"
    }
   ],
   "source": [
    "overview"
   ]
  },
  {
   "cell_type": "code",
   "execution_count": 14,
   "metadata": {},
   "outputs": [],
   "source": [
    "overview.loc[['min','max']].to_json(\"schema_in.json\",indent=4)"
   ]
  },
  {
   "cell_type": "code",
   "execution_count": 15,
   "metadata": {},
   "outputs": [],
   "source": [
    "class NotInRange(Exception):\n",
    "    def __init__(self, message = \"Values not in range\"):\n",
    "        self.message = message\n",
    "        super().__init__(self.message)"
   ]
  },
  {
   "cell_type": "code",
   "execution_count": 18,
   "metadata": {},
   "outputs": [
    {
     "ename": "NotInRange",
     "evalue": "Values not in range",
     "output_type": "error",
     "traceback": [
      "\u001b[1;31m---------------------------------------------------------------------------\u001b[0m",
      "\u001b[1;31mNotInRange\u001b[0m                                Traceback (most recent call last)",
      "\u001b[1;32m~\\AppData\\Local\\Temp\\ipykernel_8420\\749905967.py\u001b[0m in \u001b[0;36m<module>\u001b[1;34m\u001b[0m\n\u001b[1;32m----> 1\u001b[1;33m \u001b[1;32mraise\u001b[0m \u001b[0mNotInRange\u001b[0m\u001b[1;33m\u001b[0m\u001b[1;33m\u001b[0m\u001b[0m\n\u001b[0m",
      "\u001b[1;31mNotInRange\u001b[0m: Values not in range"
     ]
    }
   ],
   "source": [
    "raise NotInRange"
   ]
  },
  {
   "cell_type": "code",
   "execution_count": null,
   "metadata": {},
   "outputs": [],
   "source": []
  }
 ],
 "metadata": {
  "kernelspec": {
   "display_name": "Python 3",
   "language": "python",
   "name": "python3"
  },
  "language_info": {
   "codemirror_mode": {
    "name": "ipython",
    "version": 3
   },
   "file_extension": ".py",
   "mimetype": "text/x-python",
   "name": "python",
   "nbconvert_exporter": "python",
   "pygments_lexer": "ipython3",
   "version": "3.7.15 (default, Nov 24 2022, 18:44:54) [MSC v.1916 64 bit (AMD64)]"
  },
  "orig_nbformat": 4,
  "vscode": {
   "interpreter": {
    "hash": "12f89cdddae61811ed5dea9bc9992a8956009d43a9e96ed4670b1240651f5b94"
   }
  }
 },
 "nbformat": 4,
 "nbformat_minor": 2
}
